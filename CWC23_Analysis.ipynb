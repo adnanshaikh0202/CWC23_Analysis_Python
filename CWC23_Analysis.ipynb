{
 "cells": [
  {
   "cell_type": "code",
   "execution_count": 1,
   "metadata": {},
   "outputs": [],
   "source": [
    "import numpy as np\n",
    "import pandas as pd\n",
    "import matplotlib.pyplot as plt \n",
    "import seaborn as sns\n",
    "import plotly.express as px\n",
    "\n",
    "import warnings\n",
    "warnings.filterwarnings(\"ignore\")"
   ]
  },
  {
   "cell_type": "code",
   "execution_count": 2,
   "metadata": {},
   "outputs": [],
   "source": [
    "df = pd.read_csv(\"D:\\python.practice\\dataset_practice\\CWC23_all_innings (1).csv\")"
   ]
  },
  {
   "cell_type": "code",
   "execution_count": 3,
   "metadata": {},
   "outputs": [
    {
     "data": {
      "text/html": [
       "<div>\n",
       "<style scoped>\n",
       "    .dataframe tbody tr th:only-of-type {\n",
       "        vertical-align: middle;\n",
       "    }\n",
       "\n",
       "    .dataframe tbody tr th {\n",
       "        vertical-align: top;\n",
       "    }\n",
       "\n",
       "    .dataframe thead th {\n",
       "        text-align: right;\n",
       "    }\n",
       "</style>\n",
       "<table border=\"1\" class=\"dataframe\">\n",
       "  <thead>\n",
       "    <tr style=\"text-align: right;\">\n",
       "      <th></th>\n",
       "      <th>team</th>\n",
       "      <th>player</th>\n",
       "      <th>bat_or_bowl</th>\n",
       "      <th>bb_bf</th>\n",
       "      <th>runs</th>\n",
       "      <th>wkts</th>\n",
       "      <th>wicketball_prob</th>\n",
       "      <th>runs_per_ball</th>\n",
       "      <th>opposition</th>\n",
       "      <th>ground</th>\n",
       "      <th>start_date</th>\n",
       "      <th>overs</th>\n",
       "      <th>mdns</th>\n",
       "      <th>econ</th>\n",
       "      <th>inns</th>\n",
       "      <th>4s</th>\n",
       "      <th>6s</th>\n",
       "      <th>sr</th>\n",
       "      <th>not_out</th>\n",
       "      <th>mins</th>\n",
       "    </tr>\n",
       "  </thead>\n",
       "  <tbody>\n",
       "    <tr>\n",
       "      <th>0</th>\n",
       "      <td>PAK</td>\n",
       "      <td>Shaheen Shah Afridi (PAK)</td>\n",
       "      <td>bowl</td>\n",
       "      <td>60</td>\n",
       "      <td>45</td>\n",
       "      <td>3.0</td>\n",
       "      <td>0.05</td>\n",
       "      <td>0.75</td>\n",
       "      <td>v South Africa</td>\n",
       "      <td>Chennai</td>\n",
       "      <td>27-Oct-23</td>\n",
       "      <td>10.0</td>\n",
       "      <td>0.0</td>\n",
       "      <td>4.5</td>\n",
       "      <td>2</td>\n",
       "      <td>NaN</td>\n",
       "      <td>NaN</td>\n",
       "      <td>NaN</td>\n",
       "      <td>NaN</td>\n",
       "      <td>NaN</td>\n",
       "    </tr>\n",
       "    <tr>\n",
       "      <th>1</th>\n",
       "      <td>ENG</td>\n",
       "      <td>DJ Willey (ENG)</td>\n",
       "      <td>bowl</td>\n",
       "      <td>60</td>\n",
       "      <td>45</td>\n",
       "      <td>3.0</td>\n",
       "      <td>0.05</td>\n",
       "      <td>0.75</td>\n",
       "      <td>v India</td>\n",
       "      <td>Lucknow</td>\n",
       "      <td>29-Oct-23</td>\n",
       "      <td>10.0</td>\n",
       "      <td>2.0</td>\n",
       "      <td>4.5</td>\n",
       "      <td>1</td>\n",
       "      <td>NaN</td>\n",
       "      <td>NaN</td>\n",
       "      <td>NaN</td>\n",
       "      <td>NaN</td>\n",
       "      <td>NaN</td>\n",
       "    </tr>\n",
       "  </tbody>\n",
       "</table>\n",
       "</div>"
      ],
      "text/plain": [
       "  team                     player bat_or_bowl  bb_bf  runs  wkts  \\\n",
       "0  PAK  Shaheen Shah Afridi (PAK)        bowl     60    45   3.0   \n",
       "1  ENG            DJ Willey (ENG)        bowl     60    45   3.0   \n",
       "\n",
       "   wicketball_prob  runs_per_ball      opposition   ground start_date  overs  \\\n",
       "0             0.05           0.75  v South Africa  Chennai  27-Oct-23   10.0   \n",
       "1             0.05           0.75         v India  Lucknow  29-Oct-23   10.0   \n",
       "\n",
       "   mdns  econ  inns  4s  6s  sr  not_out  mins  \n",
       "0   0.0   4.5     2 NaN NaN NaN      NaN   NaN  \n",
       "1   2.0   4.5     1 NaN NaN NaN      NaN   NaN  "
      ]
     },
     "execution_count": 3,
     "metadata": {},
     "output_type": "execute_result"
    }
   ],
   "source": [
    "df.head(2)"
   ]
  },
  {
   "cell_type": "code",
   "execution_count": 4,
   "metadata": {},
   "outputs": [
    {
     "name": "stdout",
     "output_type": "stream",
     "text": [
      "<class 'pandas.core.frame.DataFrame'>\n",
      "RangeIndex: 1408 entries, 0 to 1407\n",
      "Data columns (total 20 columns):\n",
      " #   Column           Non-Null Count  Dtype  \n",
      "---  ------           --------------  -----  \n",
      " 0   team             1408 non-null   object \n",
      " 1   player           1408 non-null   object \n",
      " 2   bat_or_bowl      1408 non-null   object \n",
      " 3   bb_bf            1408 non-null   int64  \n",
      " 4   runs             1408 non-null   int64  \n",
      " 5   wkts             562 non-null    float64\n",
      " 6   wicketball_prob  1408 non-null   float64\n",
      " 7   runs_per_ball    1408 non-null   float64\n",
      " 8   opposition       1408 non-null   object \n",
      " 9   ground           1408 non-null   object \n",
      " 10  start_date       1408 non-null   object \n",
      " 11  overs            562 non-null    float64\n",
      " 12  mdns             562 non-null    float64\n",
      " 13  econ             562 non-null    float64\n",
      " 14  inns             1408 non-null   int64  \n",
      " 15  4s               846 non-null    float64\n",
      " 16  6s               846 non-null    float64\n",
      " 17  sr               846 non-null    float64\n",
      " 18  not_out          846 non-null    float64\n",
      " 19  mins             846 non-null    float64\n",
      "dtypes: float64(11), int64(3), object(6)\n",
      "memory usage: 220.1+ KB\n"
     ]
    }
   ],
   "source": [
    "df.info()"
   ]
  },
  {
   "cell_type": "code",
   "execution_count": 5,
   "metadata": {},
   "outputs": [
    {
     "data": {
      "text/plain": [
       "np.int64(2)"
      ]
     },
     "execution_count": 5,
     "metadata": {},
     "output_type": "execute_result"
    }
   ],
   "source": [
    "df.duplicated().sum()"
   ]
  },
  {
   "cell_type": "code",
   "execution_count": 6,
   "metadata": {},
   "outputs": [
    {
     "data": {
      "text/plain": [
       "(1408, 20)"
      ]
     },
     "execution_count": 6,
     "metadata": {},
     "output_type": "execute_result"
    }
   ],
   "source": [
    "df.shape"
   ]
  },
  {
   "cell_type": "code",
   "execution_count": 7,
   "metadata": {},
   "outputs": [
    {
     "data": {
      "text/plain": [
       "Index(['team', 'player', 'bat_or_bowl', 'bb_bf', 'runs', 'wkts',\n",
       "       'wicketball_prob', 'runs_per_ball', 'opposition', 'ground',\n",
       "       'start_date', 'overs', 'mdns', 'econ', 'inns', '4s', '6s', 'sr',\n",
       "       'not_out', 'mins'],\n",
       "      dtype='object')"
      ]
     },
     "execution_count": 7,
     "metadata": {},
     "output_type": "execute_result"
    }
   ],
   "source": [
    "df.columns"
   ]
  },
  {
   "cell_type": "code",
   "execution_count": 8,
   "metadata": {},
   "outputs": [
    {
     "data": {
      "text/plain": [
       "wkts       846\n",
       "overs      846\n",
       "mdns       846\n",
       "econ       846\n",
       "4s         562\n",
       "6s         562\n",
       "sr         562\n",
       "not_out    562\n",
       "mins       562\n",
       "dtype: int64"
      ]
     },
     "execution_count": 8,
     "metadata": {},
     "output_type": "execute_result"
    }
   ],
   "source": [
    "df.isnull().sum()[df.isnull().sum()>0]"
   ]
  },
  {
   "cell_type": "markdown",
   "metadata": {},
   "source": [
    "# 1. Team Performance "
   ]
  },
  {
   "cell_type": "markdown",
   "metadata": {},
   "source": [
    "### Explore Team-wise performance"
   ]
  },
  {
   "cell_type": "code",
   "execution_count": 9,
   "metadata": {},
   "outputs": [
    {
     "data": {
      "image/png": "[encoded data removed]",
      "text/plain": [
       "<Figure size 1400x700 with 1 Axes>"
      ]
     },
     "metadata": {},
     "output_type": "display_data"
    }
   ],
   "source": [
    "team_runs = df.groupby('team')['runs'].sum().nlargest(10).reset_index()\n",
    "\n",
    "plt.figure(figsize=(14,7))\n",
    "sns.barplot(x='team', y = 'runs', data = team_runs,color='lime')\n",
    "plt.title('Total Runs Scored by Team')\n",
    "plt.show()\n"
   ]
  },
  {
   "cell_type": "code",
   "execution_count": 10,
   "metadata": {},
   "outputs": [
    {
     "data": {
      "application/vnd.plotly.v1+json": {
       "config": {
        "plotlyServerURL": "https://plot.ly"
       },
       "data": [
        {
         "alignmentgroup": "True",
         "hovertemplate": "variable=wkts<br>team=%{x}<br>value=%{y}<extra></extra>",
         "legendgroup": "wkts",
         "marker": {
          "color": "red",
          "pattern": {
           "shape": ""
          }
         },
         "name": "wkts",
         "offsetgroup": "wkts",
         "orientation": "v",
         "showlegend": true,
         "textposition": "auto",
         "type": "bar",
         "x": [
          "IND",
          "SA",
          "AUS",
          "NZ",
          "PAK",
          "ENG",
          "NED",
          "AFG",
          "BAN",
          "SL"
         ],
         "xaxis": "x",
         "y": [
          94,
          88,
          77,
          71,
          65,
          65,
          63,
          53,
          51,
          50
         ],
         "yaxis": "y"
        }
       ],
       "layout": {
        "barmode": "relative",
        "legend": {
         "title": {
          "text": "variable"
         },
         "tracegroupgap": 0
        },
        "template": {
         "data": {
          "bar": [
           {
            "error_x": {
             "color": "#2a3f5f"
            },
            "error_y": {
             "color": "#2a3f5f"
            },
            "marker": {
             "line": {
              "color": "#E5ECF6",
              "width": 0.5
             },
             "pattern": {
              "fillmode": "overlay",
              "size": 10,
              "solidity": 0.2
             }
            },
            "type": "bar"
           }
          ],
          "barpolar": [
           {
            "marker": {
             "line": {
              "color": "#E5ECF6",
              "width": 0.5
             },
             "pattern": {
              "fillmode": "overlay",
              "size": 10,
              "solidity": 0.2
             }
            },
            "type": "barpolar"
           }
          ],
          "carpet": [
           {
            "aaxis": {
             "endlinecolor": "#2a3f5f",
             "gridcolor": "white",
             "linecolor": "white",
             "minorgridcolor": "white",
             "startlinecolor": "#2a3f5f"
            },
            "baxis": {
             "endlinecolor": "#2a3f5f",
             "gridcolor": "white",
             "linecolor": "white",
             "minorgridcolor": "white",
             "startlinecolor": "#2a3f5f"
            },
            "type": "carpet"
           }
          ],
          "choropleth": [
           {
            "colorbar": {
             "outlinewidth": 0,
             "ticks": ""
            },
            "type": "choropleth"
           }
          ],
          "contour": [
           {
            "colorbar": {
             "outlinewidth": 0,
             "ticks": ""
            },
            "colorscale": [
             [
              0,
              "#0d0887"
             ],
             [
              0.1111111111111111,
              "#46039f"
             ],
             [
              0.2222222222222222,
              "#7201a8"
             ],
             [
              0.3333333333333333,
              "#9c179e"
             ],
             [
              0.4444444444444444,
              "#bd3786"
             ],
             [
              0.5555555555555556,
              "#d8576b"
             ],
             [
              0.6666666666666666,
              "#ed7953"
             ],
             [
              0.7777777777777778,
              "#fb9f3a"
             ],
             [
              0.8888888888888888,
              "#fdca26"
             ],
             [
              1,
              "#f0f921"
             ]
            ],
            "type": "contour"
           }
          ],
          "contourcarpet": [
           {
            "colorbar": {
             "outlinewidth": 0,
             "ticks": ""
            },
            "type": "contourcarpet"
           }
          ],
          "heatmap": [
           {
            "colorbar": {
             "outlinewidth": 0,
             "ticks": ""
            },
            "colorscale": [
             [
              0,
              "#0d0887"
             ],
             [
              0.1111111111111111,
              "#46039f"
             ],
             [
              0.2222222222222222,
              "#7201a8"
             ],
             [
              0.3333333333333333,
              "#9c179e"
             ],
             [
              0.4444444444444444,
              "#bd3786"
             ],
             [
              0.5555555555555556,
              "#d8576b"
             ],
             [
              0.6666666666666666,
              "#ed7953"
             ],
             [
              0.7777777777777778,
              "#fb9f3a"
             ],
             [
              0.8888888888888888,
              "#fdca26"
             ],
             [
              1,
              "#f0f921"
             ]
            ],
            "type": "heatmap"
           }
          ],
          "heatmapgl": [
           {
            "colorbar": {
             "outlinewidth": 0,
             "ticks": ""
            },
            "colorscale": [
             [
              0,
              "#0d0887"
             ],
             [
              0.1111111111111111,
              "#46039f"
             ],
             [
              0.2222222222222222,
              "#7201a8"
             ],
             [
              0.3333333333333333,
              "#9c179e"
             ],
             [
              0.4444444444444444,
              "#bd3786"
             ],
             [
              0.5555555555555556,
              "#d8576b"
             ],
             [
              0.6666666666666666,
              "#ed7953"
             ],
             [
              0.7777777777777778,
              "#fb9f3a"
             ],
             [
              0.8888888888888888,
              "#fdca26"
             ],
             [
              1,
              "#f0f921"
             ]
            ],
            "type": "heatmapgl"
           }
          ],
          "histogram": [
           {
            "marker": {
             "pattern": {
              "fillmode": "overlay",
              "size": 10,
              "solidity": 0.2
             }
            },
            "type": "histogram"
           }
          ],
          "histogram2d": [
           {
            "colorbar": {
             "outlinewidth": 0,
             "ticks": ""
            },
            "colorscale": [
             [
              0,
              "#0d0887"
             ],
             [
              0.1111111111111111,
              "#46039f"
             ],
             [
              0.2222222222222222,
              "#7201a8"
             ],
             [
              0.3333333333333333,
              "#9c179e"
             ],
             [
              0.4444444444444444,
              "#bd3786"
             ],
             [
              0.5555555555555556,
              "#d8576b"
             ],
             [
              0.6666666666666666,
              "#ed7953"
             ],
             [
              0.7777777777777778,
              "#fb9f3a"
             ],
             [
              0.8888888888888888,
              "#fdca26"
             ],
             [
              1,
              "#f0f921"
             ]
            ],
            "type": "histogram2d"
           }
          ],
          "histogram2dcontour": [
           {
            "colorbar": {
             "outlinewidth": 0,
             "ticks": ""
            },
            "colorscale": [
             [
              0,
              "#0d0887"
             ],
             [
              0.1111111111111111,
              "#46039f"
             ],
             [
              0.2222222222222222,
              "#7201a8"
             ],
             [
              0.3333333333333333,
              "#9c179e"
             ],
             [
              0.4444444444444444,
              "#bd3786"
             ],
             [
              0.5555555555555556,
              "#d8576b"
             ],
             [
              0.6666666666666666,
              "#ed7953"
             ],
             [
              0.7777777777777778,
              "#fb9f3a"
             ],
             [
              0.8888888888888888,
              "#fdca26"
             ],
             [
              1,
              "#f0f921"
             ]
            ],
            "type": "histogram2dcontour"
           }
          ],
          "mesh3d": [
           {
            "colorbar": {
             "outlinewidth": 0,
             "ticks": ""
            },
            "type": "mesh3d"
           }
          ],
          "parcoords": [
           {
            "line": {
             "colorbar": {
              "outlinewidth": 0,
              "ticks": ""
             }
            },
            "type": "parcoords"
           }
          ],
          "pie": [
           {
            "automargin": true,
            "type": "pie"
           }
          ],
          "scatter": [
           {
            "fillpattern": {
             "fillmode": "overlay",
             "size": 10,
             "solidity": 0.2
            },
            "type": "scatter"
           }
          ],
          "scatter3d": [
           {
            "line": {
             "colorbar": {
              "outlinewidth": 0,
              "ticks": ""
             }
            },
            "marker": {
             "colorbar": {
              "outlinewidth": 0,
              "ticks": ""
             }
            },
            "type": "scatter3d"
           }
          ],
          "scattercarpet": [
           {
            "marker": {
             "colorbar": {
              "outlinewidth": 0,
              "ticks": ""
             }
            },
            "type": "scattercarpet"
           }
          ],
          "scattergeo": [
           {
            "marker": {
             "colorbar": {
              "outlinewidth": 0,
              "ticks": ""
             }
            },
            "type": "scattergeo"
           }
          ],
          "scattergl": [
           {
            "marker": {
             "colorbar": {
              "outlinewidth": 0,
              "ticks": ""
             }
            },
            "type": "scattergl"
           }
          ],
          "scattermapbox": [
           {
            "marker": {
             "colorbar": {
              "outlinewidth": 0,
              "ticks": ""
             }
            },
            "type": "scattermapbox"
           }
          ],
          "scatterpolar": [
           {
            "marker": {
             "colorbar": {
              "outlinewidth": 0,
              "ticks": ""
             }
            },
            "type": "scatterpolar"
           }
          ],
          "scatterpolargl": [
           {
            "marker": {
             "colorbar": {
              "outlinewidth": 0,
              "ticks": ""
             }
            },
            "type": "scatterpolargl"
           }
          ],
          "scatterternary": [
           {
            "marker": {
             "colorbar": {
              "outlinewidth": 0,
              "ticks": ""
             }
            },
            "type": "scatterternary"
           }
          ],
          "surface": [
           {
            "colorbar": {
             "outlinewidth": 0,
             "ticks": ""
            },
            "colorscale": [
             [
              0,
              "#0d0887"
             ],
             [
              0.1111111111111111,
              "#46039f"
             ],
             [
              0.2222222222222222,
              "#7201a8"
             ],
             [
              0.3333333333333333,
              "#9c179e"
             ],
             [
              0.4444444444444444,
              "#bd3786"
             ],
             [
              0.5555555555555556,
              "#d8576b"
             ],
             [
              0.6666666666666666,
              "#ed7953"
             ],
             [
              0.7777777777777778,
              "#fb9f3a"
             ],
             [
              0.8888888888888888,
              "#fdca26"
             ],
             [
              1,
              "#f0f921"
             ]
            ],
            "type": "surface"
           }
          ],
          "table": [
           {
            "cells": {
             "fill": {
              "color": "#EBF0F8"
             },
             "line": {
              "color": "white"
             }
            },
            "header": {
             "fill": {
              "color": "#C8D4E3"
             },
             "line": {
              "color": "white"
             }
            },
            "type": "table"
           }
          ]
         },
         "layout": {
          "annotationdefaults": {
           "arrowcolor": "#2a3f5f",
           "arrowhead": 0,
           "arrowwidth": 1
          },
          "autotypenumbers": "strict",
          "coloraxis": {
           "colorbar": {
            "outlinewidth": 0,
            "ticks": ""
           }
          },
          "colorscale": {
           "diverging": [
            [
             0,
             "#8e0152"
            ],
            [
             0.1,
             "#c51b7d"
            ],
            [
             0.2,
             "#de77ae"
            ],
            [
             0.3,
             "#f1b6da"
            ],
            [
             0.4,
             "#fde0ef"
            ],
            [
             0.5,
             "#f7f7f7"
            ],
            [
             0.6,
             "#e6f5d0"
            ],
            [
             0.7,
             "#b8e186"
            ],
            [
             0.8,
             "#7fbc41"
            ],
            [
             0.9,
             "#4d9221"
            ],
            [
             1,
             "#276419"
            ]
           ],
           "sequential": [
            [
             0,
             "#0d0887"
            ],
            [
             0.1111111111111111,
             "#46039f"
            ],
            [
             0.2222222222222222,
             "#7201a8"
            ],
            [
             0.3333333333333333,
             "#9c179e"
            ],
            [
             0.4444444444444444,
             "#bd3786"
            ],
            [
             0.5555555555555556,
             "#d8576b"
            ],
            [
             0.6666666666666666,
             "#ed7953"
            ],
            [
             0.7777777777777778,
             "#fb9f3a"
            ],
            [
             0.8888888888888888,
             "#fdca26"
            ],
            [
             1,
             "#f0f921"
            ]
           ],
           "sequentialminus": [
            [
             0,
             "#0d0887"
            ],
            [
             0.1111111111111111,
             "#46039f"
            ],
            [
             0.2222222222222222,
             "#7201a8"
            ],
            [
             0.3333333333333333,
             "#9c179e"
            ],
            [
             0.4444444444444444,
             "#bd3786"
            ],
            [
             0.5555555555555556,
             "#d8576b"
            ],
            [
             0.6666666666666666,
             "#ed7953"
            ],
            [
             0.7777777777777778,
             "#fb9f3a"
            ],
            [
             0.8888888888888888,
             "#fdca26"
            ],
            [
             1,
             "#f0f921"
            ]
           ]
          },
          "colorway": [
           "#636efa",
           "#EF553B",
           "#00cc96",
           "#ab63fa",
           "#FFA15A",
           "#19d3f3",
           "#FF6692",
           "#B6E880",
           "#FF97FF",
           "#FECB52"
          ],
          "font": {
           "color": "#2a3f5f"
          },
          "geo": {
           "bgcolor": "white",
           "lakecolor": "white",
           "landcolor": "#E5ECF6",
           "showlakes": true,
           "showland": true,
           "subunitcolor": "white"
          },
          "hoverlabel": {
           "align": "left"
          },
          "hovermode": "closest",
          "mapbox": {
           "style": "light"
          },
          "paper_bgcolor": "white",
          "plot_bgcolor": "#E5ECF6",
          "polar": {
           "angularaxis": {
            "gridcolor": "white",
            "linecolor": "white",
            "ticks": ""
           },
           "bgcolor": "#E5ECF6",
           "radialaxis": {
            "gridcolor": "white",
            "linecolor": "white",
            "ticks": ""
           }
          },
          "scene": {
           "xaxis": {
            "backgroundcolor": "#E5ECF6",
            "gridcolor": "white",
            "gridwidth": 2,
            "linecolor": "white",
            "showbackground": true,
            "ticks": "",
            "zerolinecolor": "white"
           },
           "yaxis": {
            "backgroundcolor": "#E5ECF6",
            "gridcolor": "white",
            "gridwidth": 2,
            "linecolor": "white",
            "showbackground": true,
            "ticks": "",
            "zerolinecolor": "white"
           },
           "zaxis": {
            "backgroundcolor": "#E5ECF6",
            "gridcolor": "white",
            "gridwidth": 2,
            "linecolor": "white",
            "showbackground": true,
            "ticks": "",
            "zerolinecolor": "white"
           }
          },
          "shapedefaults": {
           "line": {
            "color": "#2a3f5f"
           }
          },
          "ternary": {
           "aaxis": {
            "gridcolor": "white",
            "linecolor": "white",
            "ticks": ""
           },
           "baxis": {
            "gridcolor": "white",
            "linecolor": "white",
            "ticks": ""
           },
           "bgcolor": "#E5ECF6",
           "caxis": {
            "gridcolor": "white",
            "linecolor": "white",
            "ticks": ""
           }
          },
          "title": {
           "x": 0.05
          },
          "xaxis": {
           "automargin": true,
           "gridcolor": "white",
           "linecolor": "white",
           "ticks": "",
           "title": {
            "standoff": 15
           },
           "zerolinecolor": "white",
           "zerolinewidth": 2
          },
          "yaxis": {
           "automargin": true,
           "gridcolor": "white",
           "linecolor": "white",
           "ticks": "",
           "title": {
            "standoff": 15
           },
           "zerolinecolor": "white",
           "zerolinewidth": 2
          }
         }
        },
        "title": {
         "text": "Total Wicket taken by Team"
        },
        "xaxis": {
         "anchor": "y",
         "domain": [
          0,
          1
         ],
         "title": {
          "text": "Teams"
         }
        },
        "yaxis": {
         "anchor": "x",
         "domain": [
          0,
          1
         ],
         "title": {
          "text": "Wickets"
         }
        }
       }
      }
     },
     "metadata": {},
     "output_type": "display_data"
    }
   ],
   "source": [
    "wkts_taken = df.groupby(['team']).wkts.sum().nlargest(10)\n",
    "\n",
    "fig_wkts_taken = px.bar(wkts_taken,title='Total Wicket taken by Team',color_discrete_sequence=['red'])\n",
    "fig_wkts_taken.update_xaxes(title_text= 'Teams')\n",
    "fig_wkts_taken.update_yaxes(title_text= 'Wickets')\n",
    "fig_wkts_taken.show()"
   ]
  },
  {
   "cell_type": "code",
   "execution_count": 11,
   "metadata": {},
   "outputs": [
    {
     "data": {
      "image/png": "[encoded data removed]",
      "text/plain": [
       "<Figure size 1400x800 with 2 Axes>"
      ]
     },
     "metadata": {},
     "output_type": "display_data"
    }
   ],
   "source": [
    "Total_4s_of_Team = pd.DataFrame(df.groupby(['team'])['4s'].sum().nlargest(10))\n",
    "Total_6s_of_Team =  pd.DataFrame(df.groupby(['team'])['6s'].sum().nlargest(10))\n",
    "\n",
    "plt.figure(figsize=(14,8))\n",
    "plt.subplot(121)\n",
    "sns.barplot(x='team', y = '4s', data = Total_4s_of_Team,color='lime')\n",
    "plt.title('Total Four Scored by Team')\n",
    "plt.ylabel('Total Fours')\n",
    "plt.xlabel(\"Teams\")\n",
    "\n",
    "plt.subplot(122)\n",
    "sns.barplot(x='team', y = '6s', data = Total_6s_of_Team,color='Goldenrod')\n",
    "plt.title('Total Six Scored by Team')\n",
    "plt.ylabel(\"Total Six\")\n",
    "plt.xlabel(\"Teams\")\n",
    "\n",
    "plt.show()"
   ]
  },
  {
   "cell_type": "code",
   "execution_count": 12,
   "metadata": {},
   "outputs": [
    {
     "data": {
      "image/png": "[encoded data removed]",
      "text/plain": [
       "<Figure size 1200x600 with 2 Axes>"
      ]
     },
     "metadata": {},
     "output_type": "display_data"
    }
   ],
   "source": [
    "Team_Strike_rate = pd.DataFrame(df.groupby(['team']).sr.mean().round(2).nlargest(10))\n",
    "Team_econ = pd.DataFrame(df.groupby(['team']).econ.mean().round(2).nsmallest(10))\n",
    "\n",
    "plt.figure(figsize=(12,6))\n",
    "plt.subplot(121)\n",
    "sns.pointplot(x='team', y = 'sr', data = Team_Strike_rate,color='blue')\n",
    "plt.title('Average Strike Rate of Team in World Cup 2023')\n",
    "plt.ylabel('Average Strike Rate')\n",
    "plt.xlabel(\"Teams\")\n",
    "\n",
    "plt.subplot(122)\n",
    "sns.pointplot(x='team', y = 'econ', data = Team_econ,color='Tomato')\n",
    "plt.title('Average Economy Rate of Team in World cup 2023')\n",
    "plt.ylabel(\"Average Economy Rate\")\n",
    "plt.xlabel(\"Teams\")\n",
    "\n",
    "plt.show()"
   ]
  },
  {
   "cell_type": "markdown",
   "metadata": {},
   "source": [
    "# 2. Player Performance \n",
    "### Explore Individual Player Performance"
   ]
  },
  {
   "cell_type": "markdown",
   "metadata": {},
   "source": [
    "- Evaluate individual player statistics for both batting and bowling.\n",
    "- Identify leading run-scorers and wicket-takers.\n",
    "- Assess the impact of players on their team's performance.\n",
    "- Also find which batsman has Highest score in world cup "
   ]
  },
  {
   "cell_type": "code",
   "execution_count": 13,
   "metadata": {},
   "outputs": [],
   "source": [
    "# Batting stats\n",
    "# let's first separate batting columns from dataset\n",
    "\n",
    "Player_bat_state = df[df['bat_or_bowl']== 'bat']\n",
    "player_bowl_state = df[df['bat_or_bowl']== 'bowl']\n"
   ]
  },
  {
   "cell_type": "code",
   "execution_count": 14,
   "metadata": {},
   "outputs": [
    {
     "name": "stdout",
     "output_type": "stream",
     "text": [
      "             runs  runs_per_ball        inns          4s          6s  \\\n",
      "count  846.000000     846.000000  846.000000  846.000000  846.000000   \n",
      "mean    27.158392       0.837168    1.463357    2.605201    0.751773   \n",
      "std     30.991672       0.524755    0.498950    3.146922    1.504184   \n",
      "min      0.000000       0.000000    1.000000    0.000000    0.000000   \n",
      "25%      5.000000       0.516100    1.000000    0.000000    0.000000   \n",
      "\n",
      "               sr  \n",
      "count  846.000000  \n",
      "mean    83.716596  \n",
      "std     52.475444  \n",
      "min      0.000000  \n",
      "25%     51.610000  \n"
     ]
    }
   ],
   "source": [
    "# Batsman stats\n",
    "\n",
    "batsman_player_performance = Player_bat_state[['runs','runs_per_ball','inns','4s','6s','sr']].describe()\n",
    "print(batsman_player_performance.head())"
   ]
  },
  {
   "cell_type": "code",
   "execution_count": 15,
   "metadata": {},
   "outputs": [
    {
     "name": "stdout",
     "output_type": "stream",
     "text": [
      "             wkts       overs        mdns        inns\n",
      "count  562.000000  562.000000  562.000000  562.000000\n",
      "mean     1.204626    7.342527    0.256228    1.482206\n",
      "std      1.198237    2.679736    0.532547    0.500128\n",
      "min      0.000000    0.300000    0.000000    1.000000\n",
      "25%      0.000000    5.550000    0.000000    1.000000\n"
     ]
    }
   ],
   "source": [
    "# Bowler stats\n",
    "\n",
    "bowl_player_performance = player_bowl_state[['wkts','overs','mdns', 'inns']].describe()\n",
    "print(bowl_player_performance.head())"
   ]
  },
  {
   "cell_type": "markdown",
   "metadata": {},
   "source": [
    "### Top 10 Run scorer in world cup "
   ]
  },
  {
   "cell_type": "code",
   "execution_count": 16,
   "metadata": {},
   "outputs": [
    {
     "name": "stdout",
     "output_type": "stream",
     "text": [
      "Top run Scorers are: \n",
      "\n",
      "                   Player  Total Runs\n",
      "0           V Kohli (IND)         711\n",
      "1          Q de Kock (SA)         594\n",
      "2         R Ravindra (NZ)         578\n",
      "3        DJ Mitchell (NZ)         552\n",
      "4         RG Sharma (IND)         550\n",
      "5         DA Warner (AUS)         528\n",
      "6           SS Iyer (IND)         526\n",
      "7  HE van der Dussen (SA)         448\n",
      "8          MR Marsh (AUS)         426\n",
      "9         AK Markram (SA)         406\n",
      "************************************************************\n"
     ]
    }
   ],
   "source": [
    "top_run_scorer = Player_bat_state.groupby('player')['runs'].sum().sort_values(ascending = False).head(10) \n",
    "top_run_scorer_df = top_run_scorer.to_frame().reset_index()\n",
    "top_run_scorer_df.columns = ['Player', 'Total Runs']\n",
    "print(\"Top run Scorers are: \\n\")\n",
    "print(top_run_scorer_df)\n",
    "print(\"******\"*10)"
   ]
  },
  {
   "cell_type": "code",
   "execution_count": 17,
   "metadata": {},
   "outputs": [
    {
     "data": {
      "application/vnd.plotly.v1+json": {
       "config": {
        "plotlyServerURL": "https://plot.ly"
       },
       "data": [
        {
         "alignmentgroup": "True",
         "hovertemplate": "Player Name=%{x}<br>Runs Scored=%{y}<extra></extra>",
         "legendgroup": "",
         "marker": {
          "color": "Purple",
          "pattern": {
           "shape": ""
          }
         },
         "name": "",
         "offsetgroup": "",
         "orientation": "v",
         "showlegend": false,
         "textposition": "auto",
         "type": "bar",
         "x": [
          "V Kohli (IND)",
          "Q de Kock (SA)",
          "R Ravindra (NZ)",
          "DJ Mitchell (NZ)",
          "RG Sharma (IND)",
          "DA Warner (AUS)",
          "SS Iyer (IND)",
          "HE van der Dussen (SA)",
          "MR Marsh (AUS)",
          "AK Markram (SA)"
         ],
         "xaxis": "x",
         "y": [
          711,
          594,
          578,
          552,
          550,
          528,
          526,
          448,
          426,
          406
         ],
         "yaxis": "y"
        }
       ],
       "layout": {
        "barmode": "relative",
        "legend": {
         "tracegroupgap": 0
        },
        "template": {
         "data": {
          "bar": [
           {
            "error_x": {
             "color": "#2a3f5f"
            },
            "error_y": {
             "color": "#2a3f5f"
            },
            "marker": {
             "line": {
              "color": "#E5ECF6",
              "width": 0.5
             },
             "pattern": {
              "fillmode": "overlay",
              "size": 10,
              "solidity": 0.2
             }
            },
            "type": "bar"
           }
          ],
          "barpolar": [
           {
            "marker": {
             "line": {
              "color": "#E5ECF6",
              "width": 0.5
             },
             "pattern": {
              "fillmode": "overlay",
              "size": 10,
              "solidity": 0.2
             }
            },
            "type": "barpolar"
           }
          ],
          "carpet": [
           {
            "aaxis": {
             "endlinecolor": "#2a3f5f",
             "gridcolor": "white",
             "linecolor": "white",
             "minorgridcolor": "white",
             "startlinecolor": "#2a3f5f"
            },
            "baxis": {
             "endlinecolor": "#2a3f5f",
             "gridcolor": "white",
             "linecolor": "white",
             "minorgridcolor": "white",
             "startlinecolor": "#2a3f5f"
            },
            "type": "carpet"
           }
          ],
          "choropleth": [
           {
            "colorbar": {
             "outlinewidth": 0,
             "ticks": ""
            },
            "type": "choropleth"
           }
          ],
          "contour": [
           {
            "colorbar": {
             "outlinewidth": 0,
             "ticks": ""
            },
            "colorscale": [
             [
              0,
              "#0d0887"
             ],
             [
              0.1111111111111111,
              "#46039f"
             ],
             [
              0.2222222222222222,
              "#7201a8"
             ],
             [
              0.3333333333333333,
              "#9c179e"
             ],
             [
              0.4444444444444444,
              "#bd3786"
             ],
             [
              0.5555555555555556,
              "#d8576b"
             ],
             [
              0.6666666666666666,
              "#ed7953"
             ],
             [
              0.7777777777777778,
              "#fb9f3a"
             ],
             [
              0.8888888888888888,
              "#fdca26"
             ],
             [
              1,
              "#f0f921"
             ]
            ],
            "type": "contour"
           }
          ],
          "contourcarpet": [
           {
            "colorbar": {
             "outlinewidth": 0,
             "ticks": ""
            },
            "type": "contourcarpet"
           }
          ],
          "heatmap": [
           {
            "colorbar": {
             "outlinewidth": 0,
             "ticks": ""
            },
            "colorscale": [
             [
              0,
              "#0d0887"
             ],
             [
              0.1111111111111111,
              "#46039f"
             ],
             [
              0.2222222222222222,
              "#7201a8"
             ],
             [
              0.3333333333333333,
              "#9c179e"
             ],
             [
              0.4444444444444444,
              "#bd3786"
             ],
             [
              0.5555555555555556,
              "#d8576b"
             ],
             [
              0.6666666666666666,
              "#ed7953"
             ],
             [
              0.7777777777777778,
              "#fb9f3a"
             ],
             [
              0.8888888888888888,
              "#fdca26"
             ],
             [
              1,
              "#f0f921"
             ]
            ],
            "type": "heatmap"
           }
          ],
          "heatmapgl": [
           {
            "colorbar": {
             "outlinewidth": 0,
             "ticks": ""
            },
            "colorscale": [
             [
              0,
              "#0d0887"
             ],
             [
              0.1111111111111111,
              "#46039f"
             ],
             [
              0.2222222222222222,
              "#7201a8"
             ],
             [
              0.3333333333333333,
              "#9c179e"
             ],
             [
              0.4444444444444444,
              "#bd3786"
             ],
             [
              0.5555555555555556,
              "#d8576b"
             ],
             [
              0.6666666666666666,
              "#ed7953"
             ],
             [
              0.7777777777777778,
              "#fb9f3a"
             ],
             [
              0.8888888888888888,
              "#fdca26"
             ],
             [
              1,
              "#f0f921"
             ]
            ],
            "type": "heatmapgl"
           }
          ],
          "histogram": [
           {
            "marker": {
             "pattern": {
              "fillmode": "overlay",
              "size": 10,
              "solidity": 0.2
             }
            },
            "type": "histogram"
           }
          ],
          "histogram2d": [
           {
            "colorbar": {
             "outlinewidth": 0,
             "ticks": ""
            },
            "colorscale": [
             [
              0,
              "#0d0887"
             ],
             [
              0.1111111111111111,
              "#46039f"
             ],
             [
              0.2222222222222222,
              "#7201a8"
             ],
             [
              0.3333333333333333,
              "#9c179e"
             ],
             [
              0.4444444444444444,
              "#bd3786"
             ],
             [
              0.5555555555555556,
              "#d8576b"
             ],
             [
              0.6666666666666666,
              "#ed7953"
             ],
             [
              0.7777777777777778,
              "#fb9f3a"
             ],
             [
              0.8888888888888888,
              "#fdca26"
             ],
             [
              1,
              "#f0f921"
             ]
            ],
            "type": "histogram2d"
           }
          ],
          "histogram2dcontour": [
           {
            "colorbar": {
             "outlinewidth": 0,
             "ticks": ""
            },
            "colorscale": [
             [
              0,
              "#0d0887"
             ],
             [
              0.1111111111111111,
              "#46039f"
             ],
             [
              0.2222222222222222,
              "#7201a8"
             ],
             [
              0.3333333333333333,
              "#9c179e"
             ],
             [
              0.4444444444444444,
              "#bd3786"
             ],
             [
              0.5555555555555556,
              "#d8576b"
             ],
             [
              0.6666666666666666,
              "#ed7953"
             ],
             [
              0.7777777777777778,
              "#fb9f3a"
             ],
             [
              0.8888888888888888,
              "#fdca26"
             ],
             [
              1,
              "#f0f921"
             ]
            ],
            "type": "histogram2dcontour"
           }
          ],
          "mesh3d": [
           {
            "colorbar": {
             "outlinewidth": 0,
             "ticks": ""
            },
            "type": "mesh3d"
           }
          ],
          "parcoords": [
           {
            "line": {
             "colorbar": {
              "outlinewidth": 0,
              "ticks": ""
             }
            },
            "type": "parcoords"
           }
          ],
          "pie": [
           {
            "automargin": true,
            "type": "pie"
           }
          ],
          "scatter": [
           {
            "fillpattern": {
             "fillmode": "overlay",
             "size": 10,
             "solidity": 0.2
            },
            "type": "scatter"
           }
          ],
          "scatter3d": [
           {
            "line": {
             "colorbar": {
              "outlinewidth": 0,
              "ticks": ""
             }
            },
            "marker": {
             "colorbar": {
              "outlinewidth": 0,
              "ticks": ""
             }
            },
            "type": "scatter3d"
           }
          ],
          "scattercarpet": [
           {
            "marker": {
             "colorbar": {
              "outlinewidth": 0,
              "ticks": ""
             }
            },
            "type": "scattercarpet"
           }
          ],
          "scattergeo": [
           {
            "marker": {
             "colorbar": {
              "outlinewidth": 0,
              "ticks": ""
             }
            },
            "type": "scattergeo"
           }
          ],
          "scattergl": [
           {
            "marker": {
             "colorbar": {
              "outlinewidth": 0,
              "ticks": ""
             }
            },
            "type": "scattergl"
           }
          ],
          "scattermapbox": [
           {
            "marker": {
             "colorbar": {
              "outlinewidth": 0,
              "ticks": ""
             }
            },
            "type": "scattermapbox"
           }
          ],
          "scatterpolar": [
           {
            "marker": {
             "colorbar": {
              "outlinewidth": 0,
              "ticks": ""
             }
            },
            "type": "scatterpolar"
           }
          ],
          "scatterpolargl": [
           {
            "marker": {
             "colorbar": {
              "outlinewidth": 0,
              "ticks": ""
             }
            },
            "type": "scatterpolargl"
           }
          ],
          "scatterternary": [
           {
            "marker": {
             "colorbar": {
              "outlinewidth": 0,
              "ticks": ""
             }
            },
            "type": "scatterternary"
           }
          ],
          "surface": [
           {
            "colorbar": {
             "outlinewidth": 0,
             "ticks": ""
            },
            "colorscale": [
             [
              0,
              "#0d0887"
             ],
             [
              0.1111111111111111,
              "#46039f"
             ],
             [
              0.2222222222222222,
              "#7201a8"
             ],
             [
              0.3333333333333333,
              "#9c179e"
             ],
             [
              0.4444444444444444,
              "#bd3786"
             ],
             [
              0.5555555555555556,
              "#d8576b"
             ],
             [
              0.6666666666666666,
              "#ed7953"
             ],
             [
              0.7777777777777778,
              "#fb9f3a"
             ],
             [
              0.8888888888888888,
              "#fdca26"
             ],
             [
              1,
              "#f0f921"
             ]
            ],
            "type": "surface"
           }
          ],
          "table": [
           {
            "cells": {
             "fill": {
              "color": "#EBF0F8"
             },
             "line": {
              "color": "white"
             }
            },
            "header": {
             "fill": {
              "color": "#C8D4E3"
             },
             "line": {
              "color": "white"
             }
            },
            "type": "table"
           }
          ]
         },
         "layout": {
          "annotationdefaults": {
           "arrowcolor": "#2a3f5f",
           "arrowhead": 0,
           "arrowwidth": 1
          },
          "autotypenumbers": "strict",
          "coloraxis": {
           "colorbar": {
            "outlinewidth": 0,
            "ticks": ""
           }
          },
          "colorscale": {
           "diverging": [
            [
             0,
             "#8e0152"
            ],
            [
             0.1,
             "#c51b7d"
            ],
            [
             0.2,
             "#de77ae"
            ],
            [
             0.3,
             "#f1b6da"
            ],
            [
             0.4,
             "#fde0ef"
            ],
            [
             0.5,
             "#f7f7f7"
            ],
            [
             0.6,
             "#e6f5d0"
            ],
            [
             0.7,
             "#b8e186"
            ],
            [
             0.8,
             "#7fbc41"
            ],
            [
             0.9,
             "#4d9221"
            ],
            [
             1,
             "#276419"
            ]
           ],
           "sequential": [
            [
             0,
             "#0d0887"
            ],
            [
             0.1111111111111111,
             "#46039f"
            ],
            [
             0.2222222222222222,
             "#7201a8"
            ],
            [
             0.3333333333333333,
             "#9c179e"
            ],
            [
             0.4444444444444444,
             "#bd3786"
            ],
            [
             0.5555555555555556,
             "#d8576b"
            ],
            [
             0.6666666666666666,
             "#ed7953"
            ],
            [
             0.7777777777777778,
             "#fb9f3a"
            ],
            [
             0.8888888888888888,
             "#fdca26"
            ],
            [
             1,
             "#f0f921"
            ]
           ],
           "sequentialminus": [
            [
             0,
             "#0d0887"
            ],
            [
             0.1111111111111111,
             "#46039f"
            ],
            [
             0.2222222222222222,
             "#7201a8"
            ],
            [
             0.3333333333333333,
             "#9c179e"
            ],
            [
             0.4444444444444444,
             "#bd3786"
            ],
            [
             0.5555555555555556,
             "#d8576b"
            ],
            [
             0.6666666666666666,
             "#ed7953"
            ],
            [
             0.7777777777777778,
             "#fb9f3a"
            ],
            [
             0.8888888888888888,
             "#fdca26"
            ],
            [
             1,
             "#f0f921"
            ]
           ]
          },
          "colorway": [
           "#636efa",
           "#EF553B",
           "#00cc96",
           "#ab63fa",
           "#FFA15A",
           "#19d3f3",
           "#FF6692",
           "#B6E880",
           "#FF97FF",
           "#FECB52"
          ],
          "font": {
           "color": "#2a3f5f"
          },
          "geo": {
           "bgcolor": "white",
           "lakecolor": "white",
           "landcolor": "#E5ECF6",
           "showlakes": true,
           "showland": true,
           "subunitcolor": "white"
          },
          "hoverlabel": {
           "align": "left"
          },
          "hovermode": "closest",
          "mapbox": {
           "style": "light"
          },
          "paper_bgcolor": "white",
          "plot_bgcolor": "#E5ECF6",
          "polar": {
           "angularaxis": {
            "gridcolor": "white",
            "linecolor": "white",
            "ticks": ""
           },
           "bgcolor": "#E5ECF6",
           "radialaxis": {
            "gridcolor": "white",
            "linecolor": "white",
            "ticks": ""
           }
          },
          "scene": {
           "xaxis": {
            "backgroundcolor": "#E5ECF6",
            "gridcolor": "white",
            "gridwidth": 2,
            "linecolor": "white",
            "showbackground": true,
            "ticks": "",
            "zerolinecolor": "white"
           },
           "yaxis": {
            "backgroundcolor": "#E5ECF6",
            "gridcolor": "white",
            "gridwidth": 2,
            "linecolor": "white",
            "showbackground": true,
            "ticks": "",
            "zerolinecolor": "white"
           },
           "zaxis": {
            "backgroundcolor": "#E5ECF6",
            "gridcolor": "white",
            "gridwidth": 2,
            "linecolor": "white",
            "showbackground": true,
            "ticks": "",
            "zerolinecolor": "white"
           }
          },
          "shapedefaults": {
           "line": {
            "color": "#2a3f5f"
           }
          },
          "ternary": {
           "aaxis": {
            "gridcolor": "white",
            "linecolor": "white",
            "ticks": ""
           },
           "baxis": {
            "gridcolor": "white",
            "linecolor": "white",
            "ticks": ""
           },
           "bgcolor": "#E5ECF6",
           "caxis": {
            "gridcolor": "white",
            "linecolor": "white",
            "ticks": ""
           }
          },
          "title": {
           "x": 0.05
          },
          "xaxis": {
           "automargin": true,
           "gridcolor": "white",
           "linecolor": "white",
           "ticks": "",
           "title": {
            "standoff": 15
           },
           "zerolinecolor": "white",
           "zerolinewidth": 2
          },
          "yaxis": {
           "automargin": true,
           "gridcolor": "white",
           "linecolor": "white",
           "ticks": "",
           "title": {
            "standoff": 15
           },
           "zerolinecolor": "white",
           "zerolinewidth": 2
          }
         }
        },
        "title": {
         "text": "Top 10 Run Scorers in World Cup 2023"
        },
        "xaxis": {
         "anchor": "y",
         "domain": [
          0,
          1
         ],
         "tickangle": -35,
         "title": {
          "text": "Player Name"
         }
        },
        "yaxis": {
         "anchor": "x",
         "domain": [
          0,
          1
         ],
         "title": {
          "text": "Runs Scored"
         }
        }
       }
      }
     },
     "metadata": {},
     "output_type": "display_data"
    }
   ],
   "source": [
    "fig_top_player = px.bar(top_run_scorer_df, x ='Player', y = 'Total Runs', color_discrete_sequence = ['Purple'],title = 'Top 10 Run Scorers in World Cup 2023',\n",
    "                       labels = {'Player':'Player Name', 'Total Runs': 'Runs Scored'})\n",
    "fig_top_player.update_xaxes(title_text = 'Player Name')\n",
    "fig_top_player.update_yaxes(title_text = 'Runs Scored')\n",
    "fig_top_player.update_layout(xaxis_tickangle = -35)\n",
    "fig_top_player.show()"
   ]
  },
  {
   "cell_type": "markdown",
   "metadata": {},
   "source": [
    "### Top 10 Wicket Taker in World cup"
   ]
  },
  {
   "cell_type": "code",
   "execution_count": 18,
   "metadata": {},
   "outputs": [
    {
     "name": "stdout",
     "output_type": "stream",
     "text": [
      "Top wicket takers: \n",
      "\n",
      "                      Player  wickets\n",
      "0       Mohammed Shami (IND)     23.0\n",
      "1              A Zampa (AUS)     22.0\n",
      "2          D Madushanka (SL)     21.0\n",
      "3             G Coetzee (SA)     20.0\n",
      "4  Shaheen Shah Afridi (PAK)     18.0\n",
      "5            JJ Bumrah (IND)     18.0\n",
      "6              M Jansen (SA)     17.0\n",
      "7            MJ Santner (NZ)     16.0\n",
      "8         BFW de Leede (NED)     16.0\n",
      "9            RA Jadeja (IND)     16.0\n",
      "************************************************************\n"
     ]
    }
   ],
   "source": [
    "top_Wicket_taker = player_bowl_state.groupby(['player'])['wkts'].sum().sort_values(ascending = False).head(10)\n",
    "top_Wicket_taker_df = top_Wicket_taker.to_frame().reset_index()\n",
    "top_Wicket_taker_df.columns = ['Player', 'wickets']\n",
    "print(\"Top wicket takers: \\n\")\n",
    "print(top_Wicket_taker_df)\n",
    "print(\"******\"*10)"
   ]
  },
  {
   "cell_type": "code",
   "execution_count": 19,
   "metadata": {},
   "outputs": [
    {
     "data": {
      "application/vnd.plotly.v1+json": {
       "config": {
        "plotlyServerURL": "https://plot.ly"
       },
       "data": [
        {
         "alignmentgroup": "True",
         "hovertemplate": "Player Name=%{x}<br>wickets Taken=%{y}<extra></extra>",
         "legendgroup": "",
         "marker": {
          "color": "Orange",
          "pattern": {
           "shape": ""
          }
         },
         "name": "",
         "offsetgroup": "",
         "orientation": "v",
         "showlegend": false,
         "textposition": "auto",
         "type": "bar",
         "x": [
          "Mohammed Shami (IND)",
          "A Zampa (AUS)",
          "D Madushanka (SL)",
          "G Coetzee (SA)",
          "Shaheen Shah Afridi (PAK)",
          "JJ Bumrah (IND)",
          "M Jansen (SA)",
          "MJ Santner (NZ)",
          "BFW de Leede (NED)",
          "RA Jadeja (IND)"
         ],
         "xaxis": "x",
         "y": [
          23,
          22,
          21,
          20,
          18,
          18,
          17,
          16,
          16,
          16
         ],
         "yaxis": "y"
        }
       ],
       "layout": {
        "barmode": "relative",
        "legend": {
         "tracegroupgap": 0
        },
        "template": {
         "data": {
          "bar": [
           {
            "error_x": {
             "color": "#2a3f5f"
            },
            "error_y": {
             "color": "#2a3f5f"
            },
            "marker": {
             "line": {
              "color": "#E5ECF6",
              "width": 0.5
             },
             "pattern": {
              "fillmode": "overlay",
              "size": 10,
              "solidity": 0.2
             }
            },
            "type": "bar"
           }
          ],
          "barpolar": [
           {
            "marker": {
             "line": {
              "color": "#E5ECF6",
              "width": 0.5
             },
             "pattern": {
              "fillmode": "overlay",
              "size": 10,
              "solidity": 0.2
             }
            },
            "type": "barpolar"
           }
          ],
          "carpet": [
           {
            "aaxis": {
             "endlinecolor": "#2a3f5f",
             "gridcolor": "white",
             "linecolor": "white",
             "minorgridcolor": "white",
             "startlinecolor": "#2a3f5f"
            },
            "baxis": {
             "endlinecolor": "#2a3f5f",
             "gridcolor": "white",
             "linecolor": "white",
             "minorgridcolor": "white",
             "startlinecolor": "#2a3f5f"
            },
            "type": "carpet"
           }
          ],
          "choropleth": [
           {
            "colorbar": {
             "outlinewidth": 0,
             "ticks": ""
            },
            "type": "choropleth"
           }
          ],
          "contour": [
           {
            "colorbar": {
             "outlinewidth": 0,
             "ticks": ""
            },
            "colorscale": [
             [
              0,
              "#0d0887"
             ],
             [
              0.1111111111111111,
              "#46039f"
             ],
             [
              0.2222222222222222,
              "#7201a8"
             ],
             [
              0.3333333333333333,
              "#9c179e"
             ],
             [
              0.4444444444444444,
              "#bd3786"
             ],
             [
              0.5555555555555556,
              "#d8576b"
             ],
             [
              0.6666666666666666,
              "#ed7953"
             ],
             [
              0.7777777777777778,
              "#fb9f3a"
             ],
             [
              0.8888888888888888,
              "#fdca26"
             ],
             [
              1,
              "#f0f921"
             ]
            ],
            "type": "contour"
           }
          ],
          "contourcarpet": [
           {
            "colorbar": {
             "outlinewidth": 0,
             "ticks": ""
            },
            "type": "contourcarpet"
           }
          ],
          "heatmap": [
           {
            "colorbar": {
             "outlinewidth": 0,
             "ticks": ""
            },
            "colorscale": [
             [
              0,
              "#0d0887"
             ],
             [
              0.1111111111111111,
              "#46039f"
             ],
             [
              0.2222222222222222,
              "#7201a8"
             ],
             [
              0.3333333333333333,
              "#9c179e"
             ],
             [
              0.4444444444444444,
              "#bd3786"
             ],
             [
              0.5555555555555556,
              "#d8576b"
             ],
             [
              0.6666666666666666,
              "#ed7953"
             ],
             [
              0.7777777777777778,
              "#fb9f3a"
             ],
             [
              0.8888888888888888,
              "#fdca26"
             ],
             [
              1,
              "#f0f921"
             ]
            ],
            "type": "heatmap"
           }
          ],
          "heatmapgl": [
           {
            "colorbar": {
             "outlinewidth": 0,
             "ticks": ""
            },
            "colorscale": [
             [
              0,
              "#0d0887"
             ],
             [
              0.1111111111111111,
              "#46039f"
             ],
             [
              0.2222222222222222,
              "#7201a8"
             ],
             [
              0.3333333333333333,
              "#9c179e"
             ],
             [
              0.4444444444444444,
              "#bd3786"
             ],
             [
              0.5555555555555556,
              "#d8576b"
             ],
             [
              0.6666666666666666,
              "#ed7953"
             ],
             [
              0.7777777777777778,
              "#fb9f3a"
             ],
             [
              0.8888888888888888,
              "#fdca26"
             ],
             [
              1,
              "#f0f921"
             ]
            ],
            "type": "heatmapgl"
           }
          ],
          "histogram": [
           {
            "marker": {
             "pattern": {
              "fillmode": "overlay",
              "size": 10,
              "solidity": 0.2
             }
            },
            "type": "histogram"
           }
          ],
          "histogram2d": [
           {
            "colorbar": {
             "outlinewidth": 0,
             "ticks": ""
            },
            "colorscale": [
             [
              0,
              "#0d0887"
             ],
             [
              0.1111111111111111,
              "#46039f"
             ],
             [
              0.2222222222222222,
              "#7201a8"
             ],
             [
              0.3333333333333333,
              "#9c179e"
             ],
             [
              0.4444444444444444,
              "#bd3786"
             ],
             [
              0.5555555555555556,
              "#d8576b"
             ],
             [
              0.6666666666666666,
              "#ed7953"
             ],
             [
              0.7777777777777778,
              "#fb9f3a"
             ],
             [
              0.8888888888888888,
              "#fdca26"
             ],
             [
              1,
              "#f0f921"
             ]
            ],
            "type": "histogram2d"
           }
          ],
          "histogram2dcontour": [
           {
            "colorbar": {
             "outlinewidth": 0,
             "ticks": ""
            },
            "colorscale": [
             [
              0,
              "#0d0887"
             ],
             [
              0.1111111111111111,
              "#46039f"
             ],
             [
              0.2222222222222222,
              "#7201a8"
             ],
             [
              0.3333333333333333,
              "#9c179e"
             ],
             [
              0.4444444444444444,
              "#bd3786"
             ],
             [
              0.5555555555555556,
              "#d8576b"
             ],
             [
              0.6666666666666666,
              "#ed7953"
             ],
             [
              0.7777777777777778,
              "#fb9f3a"
             ],
             [
              0.8888888888888888,
              "#fdca26"
             ],
             [
              1,
              "#f0f921"
             ]
            ],
            "type": "histogram2dcontour"
           }
          ],
          "mesh3d": [
           {
            "colorbar": {
             "outlinewidth": 0,
             "ticks": ""
            },
            "type": "mesh3d"
           }
          ],
          "parcoords": [
           {
            "line": {
             "colorbar": {
              "outlinewidth": 0,
              "ticks": ""
             }
            },
            "type": "parcoords"
           }
          ],
          "pie": [
           {
            "automargin": true,
            "type": "pie"
           }
          ],
          "scatter": [
           {
            "fillpattern": {
             "fillmode": "overlay",
             "size": 10,
             "solidity": 0.2
            },
            "type": "scatter"
           }
          ],
          "scatter3d": [
           {
            "line": {
             "colorbar": {
              "outlinewidth": 0,
              "ticks": ""
             }
            },
            "marker": {
             "colorbar": {
              "outlinewidth": 0,
              "ticks": ""
             }
            },
            "type": "scatter3d"
           }
          ],
          "scattercarpet": [
           {
            "marker": {
             "colorbar": {
              "outlinewidth": 0,
              "ticks": ""
             }
            },
            "type": "scattercarpet"
           }
          ],
          "scattergeo": [
           {
            "marker": {
             "colorbar": {
              "outlinewidth": 0,
              "ticks": ""
             }
            },
            "type": "scattergeo"
           }
          ],
          "scattergl": [
           {
            "marker": {
             "colorbar": {
              "outlinewidth": 0,
              "ticks": ""
             }
            },
            "type": "scattergl"
           }
          ],
          "scattermapbox": [
           {
            "marker": {
             "colorbar": {
              "outlinewidth": 0,
              "ticks": ""
             }
            },
            "type": "scattermapbox"
           }
          ],
          "scatterpolar": [
           {
            "marker": {
             "colorbar": {
              "outlinewidth": 0,
              "ticks": ""
             }
            },
            "type": "scatterpolar"
           }
          ],
          "scatterpolargl": [
           {
            "marker": {
             "colorbar": {
              "outlinewidth": 0,
              "ticks": ""
             }
            },
            "type": "scatterpolargl"
           }
          ],
          "scatterternary": [
           {
            "marker": {
             "colorbar": {
              "outlinewidth": 0,
              "ticks": ""
             }
            },
            "type": "scatterternary"
           }
          ],
          "surface": [
           {
            "colorbar": {
             "outlinewidth": 0,
             "ticks": ""
            },
            "colorscale": [
             [
              0,
              "#0d0887"
             ],
             [
              0.1111111111111111,
              "#46039f"
             ],
             [
              0.2222222222222222,
              "#7201a8"
             ],
             [
              0.3333333333333333,
              "#9c179e"
             ],
             [
              0.4444444444444444,
              "#bd3786"
             ],
             [
              0.5555555555555556,
              "#d8576b"
             ],
             [
              0.6666666666666666,
              "#ed7953"
             ],
             [
              0.7777777777777778,
              "#fb9f3a"
             ],
             [
              0.8888888888888888,
              "#fdca26"
             ],
             [
              1,
              "#f0f921"
             ]
            ],
            "type": "surface"
           }
          ],
          "table": [
           {
            "cells": {
             "fill": {
              "color": "#EBF0F8"
             },
             "line": {
              "color": "white"
             }
            },
            "header": {
             "fill": {
              "color": "#C8D4E3"
             },
             "line": {
              "color": "white"
             }
            },
            "type": "table"
           }
          ]
         },
         "layout": {
          "annotationdefaults": {
           "arrowcolor": "#2a3f5f",
           "arrowhead": 0,
           "arrowwidth": 1
          },
          "autotypenumbers": "strict",
          "coloraxis": {
           "colorbar": {
            "outlinewidth": 0,
            "ticks": ""
           }
          },
          "colorscale": {
           "diverging": [
            [
             0,
             "#8e0152"
            ],
            [
             0.1,
             "#c51b7d"
            ],
            [
             0.2,
             "#de77ae"
            ],
            [
             0.3,
             "#f1b6da"
            ],
            [
             0.4,
             "#fde0ef"
            ],
            [
             0.5,
             "#f7f7f7"
            ],
            [
             0.6,
             "#e6f5d0"
            ],
            [
             0.7,
             "#b8e186"
            ],
            [
             0.8,
             "#7fbc41"
            ],
            [
             0.9,
             "#4d9221"
            ],
            [
             1,
             "#276419"
            ]
           ],
           "sequential": [
            [
             0,
             "#0d0887"
            ],
            [
             0.1111111111111111,
             "#46039f"
            ],
            [
             0.2222222222222222,
             "#7201a8"
            ],
            [
             0.3333333333333333,
             "#9c179e"
            ],
            [
             0.4444444444444444,
             "#bd3786"
            ],
            [
             0.5555555555555556,
             "#d8576b"
            ],
            [
             0.6666666666666666,
             "#ed7953"
            ],
            [
             0.7777777777777778,
             "#fb9f3a"
            ],
            [
             0.8888888888888888,
             "#fdca26"
            ],
            [
             1,
             "#f0f921"
            ]
           ],
           "sequentialminus": [
            [
             0,
             "#0d0887"
            ],
            [
             0.1111111111111111,
             "#46039f"
            ],
            [
             0.2222222222222222,
             "#7201a8"
            ],
            [
             0.3333333333333333,
             "#9c179e"
            ],
            [
             0.4444444444444444,
             "#bd3786"
            ],
            [
             0.5555555555555556,
             "#d8576b"
            ],
            [
             0.6666666666666666,
             "#ed7953"
            ],
            [
             0.7777777777777778,
             "#fb9f3a"
            ],
            [
             0.8888888888888888,
             "#fdca26"
            ],
            [
             1,
             "#f0f921"
            ]
           ]
          },
          "colorway": [
           "#636efa",
           "#EF553B",
           "#00cc96",
           "#ab63fa",
           "#FFA15A",
           "#19d3f3",
           "#FF6692",
           "#B6E880",
           "#FF97FF",
           "#FECB52"
          ],
          "font": {
           "color": "#2a3f5f"
          },
          "geo": {
           "bgcolor": "white",
           "lakecolor": "white",
           "landcolor": "#E5ECF6",
           "showlakes": true,
           "showland": true,
           "subunitcolor": "white"
          },
          "hoverlabel": {
           "align": "left"
          },
          "hovermode": "closest",
          "mapbox": {
           "style": "light"
          },
          "paper_bgcolor": "white",
          "plot_bgcolor": "#E5ECF6",
          "polar": {
           "angularaxis": {
            "gridcolor": "white",
            "linecolor": "white",
            "ticks": ""
           },
           "bgcolor": "#E5ECF6",
           "radialaxis": {
            "gridcolor": "white",
            "linecolor": "white",
            "ticks": ""
           }
          },
          "scene": {
           "xaxis": {
            "backgroundcolor": "#E5ECF6",
            "gridcolor": "white",
            "gridwidth": 2,
            "linecolor": "white",
            "showbackground": true,
            "ticks": "",
            "zerolinecolor": "white"
           },
           "yaxis": {
            "backgroundcolor": "#E5ECF6",
            "gridcolor": "white",
            "gridwidth": 2,
            "linecolor": "white",
            "showbackground": true,
            "ticks": "",
            "zerolinecolor": "white"
           },
           "zaxis": {
            "backgroundcolor": "#E5ECF6",
            "gridcolor": "white",
            "gridwidth": 2,
            "linecolor": "white",
            "showbackground": true,
            "ticks": "",
            "zerolinecolor": "white"
           }
          },
          "shapedefaults": {
           "line": {
            "color": "#2a3f5f"
           }
          },
          "ternary": {
           "aaxis": {
            "gridcolor": "white",
            "linecolor": "white",
            "ticks": ""
           },
           "baxis": {
            "gridcolor": "white",
            "linecolor": "white",
            "ticks": ""
           },
           "bgcolor": "#E5ECF6",
           "caxis": {
            "gridcolor": "white",
            "linecolor": "white",
            "ticks": ""
           }
          },
          "title": {
           "x": 0.05
          },
          "xaxis": {
           "automargin": true,
           "gridcolor": "white",
           "linecolor": "white",
           "ticks": "",
           "title": {
            "standoff": 15
           },
           "zerolinecolor": "white",
           "zerolinewidth": 2
          },
          "yaxis": {
           "automargin": true,
           "gridcolor": "white",
           "linecolor": "white",
           "ticks": "",
           "title": {
            "standoff": 15
           },
           "zerolinecolor": "white",
           "zerolinewidth": 2
          }
         }
        },
        "title": {
         "text": "Top 10 leading Wicket takers in World cup 2023"
        },
        "xaxis": {
         "anchor": "y",
         "domain": [
          0,
          1
         ],
         "tickangle": -35,
         "title": {
          "text": "Player Name"
         }
        },
        "yaxis": {
         "anchor": "x",
         "domain": [
          0,
          1
         ],
         "title": {
          "text": "Wickets taken"
         }
        }
       }
      }
     },
     "metadata": {},
     "output_type": "display_data"
    }
   ],
   "source": [
    "#let's add some visualization\n",
    "fig_top_wkt = px.bar(top_Wicket_taker_df, x = 'Player', y = 'wickets', color_discrete_sequence = ['Orange']\n",
    "                    , title = 'Top 10 leading Wicket takers in World cup 2023',\n",
    "                    labels = {'Player': 'Player Name', 'wickets': 'wickets Taken'})\n",
    "fig_top_wkt.update_xaxes(title_text='Player Name')\n",
    "fig_top_wkt.update_yaxes(title_text = 'Wickets taken')\n",
    "fig_top_wkt.update_layout(xaxis_tickangle = -35)\n",
    "fig_top_wkt.show()"
   ]
  },
  {
   "cell_type": "markdown",
   "metadata": {},
   "source": [
    "### Highest Score by Batsman"
   ]
  },
  {
   "cell_type": "code",
   "execution_count": 20,
   "metadata": {},
   "outputs": [
    {
     "name": "stdout",
     "output_type": "stream",
     "text": [
      "Top 10 Highest Scores: \n",
      "\n",
      "                   Player  Highest Scores\n",
      "0        GJ Maxwell (AUS)             201\n",
      "1          MR Marsh (AUS)             177\n",
      "2          Q de Kock (SA)             174\n",
      "3         DA Warner (AUS)             163\n",
      "4          DP Conway (NZ)             152\n",
      "5          DJ Malan (ENG)             140\n",
      "6        DJ Mitchell (NZ)             134\n",
      "7  HE van der Dussen (SA)             133\n",
      "8   Mohammad Rizwan (PAK)             131\n",
      "9         RG Sharma (IND)             131\n",
      "************************************************************\n"
     ]
    }
   ],
   "source": [
    "top_10_highest_individual_scores = df.groupby(['player']).runs.max().nlargest(10)\n",
    "top_10_highest_individual_scores_df = top_10_highest_individual_scores.to_frame().reset_index()\n",
    "top_10_highest_individual_scores_df.columns = ['Player', 'Highest Scores']\n",
    "print(\"Top 10 Highest Scores: \\n\")\n",
    "print(top_10_highest_individual_scores_df)\n",
    "print(\"******\"*10)"
   ]
  },
  {
   "cell_type": "code",
   "execution_count": 21,
   "metadata": {},
   "outputs": [
    {
     "data": {
      "application/vnd.plotly.v1+json": {
       "config": {
        "plotlyServerURL": "https://plot.ly"
       },
       "data": [
        {
         "alignmentgroup": "True",
         "hovertemplate": "variable=runs<br>player=%{x}<br>value=%{y}<extra></extra>",
         "legendgroup": "runs",
         "marker": {
          "color": "violet",
          "pattern": {
           "shape": ""
          }
         },
         "name": "runs",
         "offsetgroup": "runs",
         "orientation": "v",
         "showlegend": true,
         "textposition": "auto",
         "type": "bar",
         "x": [
          "GJ Maxwell (AUS)",
          "MR Marsh (AUS)",
          "Q de Kock (SA)",
          "DA Warner (AUS)",
          "DP Conway (NZ)",
          "DJ Malan (ENG)",
          "DJ Mitchell (NZ)",
          "HE van der Dussen (SA)",
          "Mohammad Rizwan (PAK)",
          "RG Sharma (IND)"
         ],
         "xaxis": "x",
         "y": [
          201,
          177,
          174,
          163,
          152,
          140,
          134,
          133,
          131,
          131
         ],
         "yaxis": "y"
        }
       ],
       "layout": {
        "barmode": "relative",
        "legend": {
         "title": {
          "text": "variable"
         },
         "tracegroupgap": 0
        },
        "template": {
         "data": {
          "bar": [
           {
            "error_x": {
             "color": "#2a3f5f"
            },
            "error_y": {
             "color": "#2a3f5f"
            },
            "marker": {
             "line": {
              "color": "#E5ECF6",
              "width": 0.5
             },
             "pattern": {
              "fillmode": "overlay",
              "size": 10,
              "solidity": 0.2
             }
            },
            "type": "bar"
           }
          ],
          "barpolar": [
           {
            "marker": {
             "line": {
              "color": "#E5ECF6",
              "width": 0.5
             },
             "pattern": {
              "fillmode": "overlay",
              "size": 10,
              "solidity": 0.2
             }
            },
            "type": "barpolar"
           }
          ],
          "carpet": [
           {
            "aaxis": {
             "endlinecolor": "#2a3f5f",
             "gridcolor": "white",
             "linecolor": "white",
             "minorgridcolor": "white",
             "startlinecolor": "#2a3f5f"
            },
            "baxis": {
             "endlinecolor": "#2a3f5f",
             "gridcolor": "white",
             "linecolor": "white",
             "minorgridcolor": "white",
             "startlinecolor": "#2a3f5f"
            },
            "type": "carpet"
           }
          ],
          "choropleth": [
           {
            "colorbar": {
             "outlinewidth": 0,
             "ticks": ""
            },
            "type": "choropleth"
           }
          ],
          "contour": [
           {
            "colorbar": {
             "outlinewidth": 0,
             "ticks": ""
            },
            "colorscale": [
             [
              0,
              "#0d0887"
             ],
             [
              0.1111111111111111,
              "#46039f"
             ],
             [
              0.2222222222222222,
              "#7201a8"
             ],
             [
              0.3333333333333333,
              "#9c179e"
             ],
             [
              0.4444444444444444,
              "#bd3786"
             ],
             [
              0.5555555555555556,
              "#d8576b"
             ],
             [
              0.6666666666666666,
              "#ed7953"
             ],
             [
              0.7777777777777778,
              "#fb9f3a"
             ],
             [
              0.8888888888888888,
              "#fdca26"
             ],
             [
              1,
              "#f0f921"
             ]
            ],
            "type": "contour"
           }
          ],
          "contourcarpet": [
           {
            "colorbar": {
             "outlinewidth": 0,
             "ticks": ""
            },
            "type": "contourcarpet"
           }
          ],
          "heatmap": [
           {
            "colorbar": {
             "outlinewidth": 0,
             "ticks": ""
            },
            "colorscale": [
             [
              0,
              "#0d0887"
             ],
             [
              0.1111111111111111,
              "#46039f"
             ],
             [
              0.2222222222222222,
              "#7201a8"
             ],
             [
              0.3333333333333333,
              "#9c179e"
             ],
             [
              0.4444444444444444,
              "#bd3786"
             ],
             [
              0.5555555555555556,
              "#d8576b"
             ],
             [
              0.6666666666666666,
              "#ed7953"
             ],
             [
              0.7777777777777778,
              "#fb9f3a"
             ],
             [
              0.8888888888888888,
              "#fdca26"
             ],
             [
              1,
              "#f0f921"
             ]
            ],
            "type": "heatmap"
           }
          ],
          "heatmapgl": [
           {
            "colorbar": {
             "outlinewidth": 0,
             "ticks": ""
            },
            "colorscale": [
             [
              0,
              "#0d0887"
             ],
             [
              0.1111111111111111,
              "#46039f"
             ],
             [
              0.2222222222222222,
              "#7201a8"
             ],
             [
              0.3333333333333333,
              "#9c179e"
             ],
             [
              0.4444444444444444,
              "#bd3786"
             ],
             [
              0.5555555555555556,
              "#d8576b"
             ],
             [
              0.6666666666666666,
              "#ed7953"
             ],
             [
              0.7777777777777778,
              "#fb9f3a"
             ],
             [
              0.8888888888888888,
              "#fdca26"
             ],
             [
              1,
              "#f0f921"
             ]
            ],
            "type": "heatmapgl"
           }
          ],
          "histogram": [
           {
            "marker": {
             "pattern": {
              "fillmode": "overlay",
              "size": 10,
              "solidity": 0.2
             }
            },
            "type": "histogram"
           }
          ],
          "histogram2d": [
           {
            "colorbar": {
             "outlinewidth": 0,
             "ticks": ""
            },
            "colorscale": [
             [
              0,
              "#0d0887"
             ],
             [
              0.1111111111111111,
              "#46039f"
             ],
             [
              0.2222222222222222,
              "#7201a8"
             ],
             [
              0.3333333333333333,
              "#9c179e"
             ],
             [
              0.4444444444444444,
              "#bd3786"
             ],
             [
              0.5555555555555556,
              "#d8576b"
             ],
             [
              0.6666666666666666,
              "#ed7953"
             ],
             [
              0.7777777777777778,
              "#fb9f3a"
             ],
             [
              0.8888888888888888,
              "#fdca26"
             ],
             [
              1,
              "#f0f921"
             ]
            ],
            "type": "histogram2d"
           }
          ],
          "histogram2dcontour": [
           {
            "colorbar": {
             "outlinewidth": 0,
             "ticks": ""
            },
            "colorscale": [
             [
              0,
              "#0d0887"
             ],
             [
              0.1111111111111111,
              "#46039f"
             ],
             [
              0.2222222222222222,
              "#7201a8"
             ],
             [
              0.3333333333333333,
              "#9c179e"
             ],
             [
              0.4444444444444444,
              "#bd3786"
             ],
             [
              0.5555555555555556,
              "#d8576b"
             ],
             [
              0.6666666666666666,
              "#ed7953"
             ],
             [
              0.7777777777777778,
              "#fb9f3a"
             ],
             [
              0.8888888888888888,
              "#fdca26"
             ],
             [
              1,
              "#f0f921"
             ]
            ],
            "type": "histogram2dcontour"
           }
          ],
          "mesh3d": [
           {
            "colorbar": {
             "outlinewidth": 0,
             "ticks": ""
            },
            "type": "mesh3d"
           }
          ],
          "parcoords": [
           {
            "line": {
             "colorbar": {
              "outlinewidth": 0,
              "ticks": ""
             }
            },
            "type": "parcoords"
           }
          ],
          "pie": [
           {
            "automargin": true,
            "type": "pie"
           }
          ],
          "scatter": [
           {
            "fillpattern": {
             "fillmode": "overlay",
             "size": 10,
             "solidity": 0.2
            },
            "type": "scatter"
           }
          ],
          "scatter3d": [
           {
            "line": {
             "colorbar": {
              "outlinewidth": 0,
              "ticks": ""
             }
            },
            "marker": {
             "colorbar": {
              "outlinewidth": 0,
              "ticks": ""
             }
            },
            "type": "scatter3d"
           }
          ],
          "scattercarpet": [
           {
            "marker": {
             "colorbar": {
              "outlinewidth": 0,
              "ticks": ""
             }
            },
            "type": "scattercarpet"
           }
          ],
          "scattergeo": [
           {
            "marker": {
             "colorbar": {
              "outlinewidth": 0,
              "ticks": ""
             }
            },
            "type": "scattergeo"
           }
          ],
          "scattergl": [
           {
            "marker": {
             "colorbar": {
              "outlinewidth": 0,
              "ticks": ""
             }
            },
            "type": "scattergl"
           }
          ],
          "scattermapbox": [
           {
            "marker": {
             "colorbar": {
              "outlinewidth": 0,
              "ticks": ""
             }
            },
            "type": "scattermapbox"
           }
          ],
          "scatterpolar": [
           {
            "marker": {
             "colorbar": {
              "outlinewidth": 0,
              "ticks": ""
             }
            },
            "type": "scatterpolar"
           }
          ],
          "scatterpolargl": [
           {
            "marker": {
             "colorbar": {
              "outlinewidth": 0,
              "ticks": ""
             }
            },
            "type": "scatterpolargl"
           }
          ],
          "scatterternary": [
           {
            "marker": {
             "colorbar": {
              "outlinewidth": 0,
              "ticks": ""
             }
            },
            "type": "scatterternary"
           }
          ],
          "surface": [
           {
            "colorbar": {
             "outlinewidth": 0,
             "ticks": ""
            },
            "colorscale": [
             [
              0,
              "#0d0887"
             ],
             [
              0.1111111111111111,
              "#46039f"
             ],
             [
              0.2222222222222222,
              "#7201a8"
             ],
             [
              0.3333333333333333,
              "#9c179e"
             ],
             [
              0.4444444444444444,
              "#bd3786"
             ],
             [
              0.5555555555555556,
              "#d8576b"
             ],
             [
              0.6666666666666666,
              "#ed7953"
             ],
             [
              0.7777777777777778,
              "#fb9f3a"
             ],
             [
              0.8888888888888888,
              "#fdca26"
             ],
             [
              1,
              "#f0f921"
             ]
            ],
            "type": "surface"
           }
          ],
          "table": [
           {
            "cells": {
             "fill": {
              "color": "#EBF0F8"
             },
             "line": {
              "color": "white"
             }
            },
            "header": {
             "fill": {
              "color": "#C8D4E3"
             },
             "line": {
              "color": "white"
             }
            },
            "type": "table"
           }
          ]
         },
         "layout": {
          "annotationdefaults": {
           "arrowcolor": "#2a3f5f",
           "arrowhead": 0,
           "arrowwidth": 1
          },
          "autotypenumbers": "strict",
          "coloraxis": {
           "colorbar": {
            "outlinewidth": 0,
            "ticks": ""
           }
          },
          "colorscale": {
           "diverging": [
            [
             0,
             "#8e0152"
            ],
            [
             0.1,
             "#c51b7d"
            ],
            [
             0.2,
             "#de77ae"
            ],
            [
             0.3,
             "#f1b6da"
            ],
            [
             0.4,
             "#fde0ef"
            ],
            [
             0.5,
             "#f7f7f7"
            ],
            [
             0.6,
             "#e6f5d0"
            ],
            [
             0.7,
             "#b8e186"
            ],
            [
             0.8,
             "#7fbc41"
            ],
            [
             0.9,
             "#4d9221"
            ],
            [
             1,
             "#276419"
            ]
           ],
           "sequential": [
            [
             0,
             "#0d0887"
            ],
            [
             0.1111111111111111,
             "#46039f"
            ],
            [
             0.2222222222222222,
             "#7201a8"
            ],
            [
             0.3333333333333333,
             "#9c179e"
            ],
            [
             0.4444444444444444,
             "#bd3786"
            ],
            [
             0.5555555555555556,
             "#d8576b"
            ],
            [
             0.6666666666666666,
             "#ed7953"
            ],
            [
             0.7777777777777778,
             "#fb9f3a"
            ],
            [
             0.8888888888888888,
             "#fdca26"
            ],
            [
             1,
             "#f0f921"
            ]
           ],
           "sequentialminus": [
            [
             0,
             "#0d0887"
            ],
            [
             0.1111111111111111,
             "#46039f"
            ],
            [
             0.2222222222222222,
             "#7201a8"
            ],
            [
             0.3333333333333333,
             "#9c179e"
            ],
            [
             0.4444444444444444,
             "#bd3786"
            ],
            [
             0.5555555555555556,
             "#d8576b"
            ],
            [
             0.6666666666666666,
             "#ed7953"
            ],
            [
             0.7777777777777778,
             "#fb9f3a"
            ],
            [
             0.8888888888888888,
             "#fdca26"
            ],
            [
             1,
             "#f0f921"
            ]
           ]
          },
          "colorway": [
           "#636efa",
           "#EF553B",
           "#00cc96",
           "#ab63fa",
           "#FFA15A",
           "#19d3f3",
           "#FF6692",
           "#B6E880",
           "#FF97FF",
           "#FECB52"
          ],
          "font": {
           "color": "#2a3f5f"
          },
          "geo": {
           "bgcolor": "white",
           "lakecolor": "white",
           "landcolor": "#E5ECF6",
           "showlakes": true,
           "showland": true,
           "subunitcolor": "white"
          },
          "hoverlabel": {
           "align": "left"
          },
          "hovermode": "closest",
          "mapbox": {
           "style": "light"
          },
          "paper_bgcolor": "white",
          "plot_bgcolor": "#E5ECF6",
          "polar": {
           "angularaxis": {
            "gridcolor": "white",
            "linecolor": "white",
            "ticks": ""
           },
           "bgcolor": "#E5ECF6",
           "radialaxis": {
            "gridcolor": "white",
            "linecolor": "white",
            "ticks": ""
           }
          },
          "scene": {
           "xaxis": {
            "backgroundcolor": "#E5ECF6",
            "gridcolor": "white",
            "gridwidth": 2,
            "linecolor": "white",
            "showbackground": true,
            "ticks": "",
            "zerolinecolor": "white"
           },
           "yaxis": {
            "backgroundcolor": "#E5ECF6",
            "gridcolor": "white",
            "gridwidth": 2,
            "linecolor": "white",
            "showbackground": true,
            "ticks": "",
            "zerolinecolor": "white"
           },
           "zaxis": {
            "backgroundcolor": "#E5ECF6",
            "gridcolor": "white",
            "gridwidth": 2,
            "linecolor": "white",
            "showbackground": true,
            "ticks": "",
            "zerolinecolor": "white"
           }
          },
          "shapedefaults": {
           "line": {
            "color": "#2a3f5f"
           }
          },
          "ternary": {
           "aaxis": {
            "gridcolor": "white",
            "linecolor": "white",
            "ticks": ""
           },
           "baxis": {
            "gridcolor": "white",
            "linecolor": "white",
            "ticks": ""
           },
           "bgcolor": "#E5ECF6",
           "caxis": {
            "gridcolor": "white",
            "linecolor": "white",
            "ticks": ""
           }
          },
          "title": {
           "x": 0.05
          },
          "xaxis": {
           "automargin": true,
           "gridcolor": "white",
           "linecolor": "white",
           "ticks": "",
           "title": {
            "standoff": 15
           },
           "zerolinecolor": "white",
           "zerolinewidth": 2
          },
          "yaxis": {
           "automargin": true,
           "gridcolor": "white",
           "linecolor": "white",
           "ticks": "",
           "title": {
            "standoff": 15
           },
           "zerolinecolor": "white",
           "zerolinewidth": 2
          }
         }
        },
        "title": {
         "text": "Top 10 Highest Individual Scorers in World Cup 2023"
        },
        "xaxis": {
         "anchor": "y",
         "domain": [
          0,
          1
         ],
         "tickangle": -35,
         "title": {
          "text": "Player Name"
         }
        },
        "yaxis": {
         "anchor": "x",
         "domain": [
          0,
          1
         ],
         "title": {
          "text": "Runs Scored"
         }
        }
       }
      }
     },
     "metadata": {},
     "output_type": "display_data"
    }
   ],
   "source": [
    "top_10_highest_individual_scores = df.groupby(['player']).runs.max().nlargest(10)\n",
    "\n",
    "fig_highest_scores = px.bar(top_10_highest_individual_scores, color_discrete_sequence = ['violet'],\n",
    "                        title = 'Top 10 Highest Individual Scorers in World Cup 2023',labels = {'Player':'Player Name', 'Total Runs': 'Runs Scored'})\n",
    "fig_highest_scores.update_xaxes(title_text = 'Player Name')\n",
    "fig_highest_scores.update_yaxes(title_text = 'Runs Scored')\n",
    "fig_highest_scores.update_layout(xaxis_tickangle = -35)\n",
    "fig_highest_scores.show()"
   ]
  },
  {
   "cell_type": "code",
   "execution_count": 22,
   "metadata": {},
   "outputs": [
    {
     "data": {
      "image/png": "[encoded data removed]",
      "text/plain": [
       "<Figure size 640x480 with 1 Axes>"
      ]
     },
     "metadata": {},
     "output_type": "display_data"
    }
   ],
   "source": [
    "high_sr = Player_bat_state.groupby(['player']).sr.mean().nlargest(5).round(2)\n",
    "sns.pointplot(high_sr)\n",
    "plt.title(\"Highest Average Strike Rate\")\n",
    "plt.ylabel('Strike Rate')\n",
    "plt.xticks(rotation= 40);"
   ]
  },
  {
   "cell_type": "markdown",
   "metadata": {},
   "source": [
    "# Ground Analysis"
   ]
  },
  {
   "cell_type": "code",
   "execution_count": 23,
   "metadata": {},
   "outputs": [
    {
     "data": {
      "application/vnd.plotly.v1+json": {
       "config": {
        "plotlyServerURL": "https://plot.ly"
       },
       "data": [
        {
         "hovertemplate": "variable=econ<br>ground=%{x}<br>value=%{y}<extra></extra>",
         "legendgroup": "econ",
         "line": {
          "color": "navy",
          "dash": "solid"
         },
         "marker": {
          "symbol": "circle"
         },
         "mode": "lines",
         "name": "econ",
         "orientation": "v",
         "showlegend": true,
         "type": "scatter",
         "x": [
          "Bengaluru",
          "Delhi",
          "Wankhede",
          "Hyderabad",
          "Pune",
          "Dharamsala",
          "Ahmedabad",
          "Chennai",
          "Lucknow",
          "Eden Gardens"
         ],
         "xaxis": "x",
         "y": [
          6.56,
          6.56,
          6.5,
          6.23,
          6.07,
          6.04,
          5.96,
          5.45,
          5.11,
          5.03
         ],
         "yaxis": "y"
        }
       ],
       "layout": {
        "legend": {
         "title": {
          "text": "variable"
         },
         "tracegroupgap": 0
        },
        "template": {
         "data": {
          "bar": [
           {
            "error_x": {
             "color": "#2a3f5f"
            },
            "error_y": {
             "color": "#2a3f5f"
            },
            "marker": {
             "line": {
              "color": "#E5ECF6",
              "width": 0.5
             },
             "pattern": {
              "fillmode": "overlay",
              "size": 10,
              "solidity": 0.2
             }
            },
            "type": "bar"
           }
          ],
          "barpolar": [
           {
            "marker": {
             "line": {
              "color": "#E5ECF6",
              "width": 0.5
             },
             "pattern": {
              "fillmode": "overlay",
              "size": 10,
              "solidity": 0.2
             }
            },
            "type": "barpolar"
           }
          ],
          "carpet": [
           {
            "aaxis": {
             "endlinecolor": "#2a3f5f",
             "gridcolor": "white",
             "linecolor": "white",
             "minorgridcolor": "white",
             "startlinecolor": "#2a3f5f"
            },
            "baxis": {
             "endlinecolor": "#2a3f5f",
             "gridcolor": "white",
             "linecolor": "white",
             "minorgridcolor": "white",
             "startlinecolor": "#2a3f5f"
            },
            "type": "carpet"
           }
          ],
          "choropleth": [
           {
            "colorbar": {
             "outlinewidth": 0,
             "ticks": ""
            },
            "type": "choropleth"
           }
          ],
          "contour": [
           {
            "colorbar": {
             "outlinewidth": 0,
             "ticks": ""
            },
            "colorscale": [
             [
              0,
              "#0d0887"
             ],
             [
              0.1111111111111111,
              "#46039f"
             ],
             [
              0.2222222222222222,
              "#7201a8"
             ],
             [
              0.3333333333333333,
              "#9c179e"
             ],
             [
              0.4444444444444444,
              "#bd3786"
             ],
             [
              0.5555555555555556,
              "#d8576b"
             ],
             [
              0.6666666666666666,
              "#ed7953"
             ],
             [
              0.7777777777777778,
              "#fb9f3a"
             ],
             [
              0.8888888888888888,
              "#fdca26"
             ],
             [
              1,
              "#f0f921"
             ]
            ],
            "type": "contour"
           }
          ],
          "contourcarpet": [
           {
            "colorbar": {
             "outlinewidth": 0,
             "ticks": ""
            },
            "type": "contourcarpet"
           }
          ],
          "heatmap": [
           {
            "colorbar": {
             "outlinewidth": 0,
             "ticks": ""
            },
            "colorscale": [
             [
              0,
              "#0d0887"
             ],
             [
              0.1111111111111111,
              "#46039f"
             ],
             [
              0.2222222222222222,
              "#7201a8"
             ],
             [
              0.3333333333333333,
              "#9c179e"
             ],
             [
              0.4444444444444444,
              "#bd3786"
             ],
             [
              0.5555555555555556,
              "#d8576b"
             ],
             [
              0.6666666666666666,
              "#ed7953"
             ],
             [
              0.7777777777777778,
              "#fb9f3a"
             ],
             [
              0.8888888888888888,
              "#fdca26"
             ],
             [
              1,
              "#f0f921"
             ]
            ],
            "type": "heatmap"
           }
          ],
          "heatmapgl": [
           {
            "colorbar": {
             "outlinewidth": 0,
             "ticks": ""
            },
            "colorscale": [
             [
              0,
              "#0d0887"
             ],
             [
              0.1111111111111111,
              "#46039f"
             ],
             [
              0.2222222222222222,
              "#7201a8"
             ],
             [
              0.3333333333333333,
              "#9c179e"
             ],
             [
              0.4444444444444444,
              "#bd3786"
             ],
             [
              0.5555555555555556,
              "#d8576b"
             ],
             [
              0.6666666666666666,
              "#ed7953"
             ],
             [
              0.7777777777777778,
              "#fb9f3a"
             ],
             [
              0.8888888888888888,
              "#fdca26"
             ],
             [
              1,
              "#f0f921"
             ]
            ],
            "type": "heatmapgl"
           }
          ],
          "histogram": [
           {
            "marker": {
             "pattern": {
              "fillmode": "overlay",
              "size": 10,
              "solidity": 0.2
             }
            },
            "type": "histogram"
           }
          ],
          "histogram2d": [
           {
            "colorbar": {
             "outlinewidth": 0,
             "ticks": ""
            },
            "colorscale": [
             [
              0,
              "#0d0887"
             ],
             [
              0.1111111111111111,
              "#46039f"
             ],
             [
              0.2222222222222222,
              "#7201a8"
             ],
             [
              0.3333333333333333,
              "#9c179e"
             ],
             [
              0.4444444444444444,
              "#bd3786"
             ],
             [
              0.5555555555555556,
              "#d8576b"
             ],
             [
              0.6666666666666666,
              "#ed7953"
             ],
             [
              0.7777777777777778,
              "#fb9f3a"
             ],
             [
              0.8888888888888888,
              "#fdca26"
             ],
             [
              1,
              "#f0f921"
             ]
            ],
            "type": "histogram2d"
           }
          ],
          "histogram2dcontour": [
           {
            "colorbar": {
             "outlinewidth": 0,
             "ticks": ""
            },
            "colorscale": [
             [
              0,
              "#0d0887"
             ],
             [
              0.1111111111111111,
              "#46039f"
             ],
             [
              0.2222222222222222,
              "#7201a8"
             ],
             [
              0.3333333333333333,
              "#9c179e"
             ],
             [
              0.4444444444444444,
              "#bd3786"
             ],
             [
              0.5555555555555556,
              "#d8576b"
             ],
             [
              0.6666666666666666,
              "#ed7953"
             ],
             [
              0.7777777777777778,
              "#fb9f3a"
             ],
             [
              0.8888888888888888,
              "#fdca26"
             ],
             [
              1,
              "#f0f921"
             ]
            ],
            "type": "histogram2dcontour"
           }
          ],
          "mesh3d": [
           {
            "colorbar": {
             "outlinewidth": 0,
             "ticks": ""
            },
            "type": "mesh3d"
           }
          ],
          "parcoords": [
           {
            "line": {
             "colorbar": {
              "outlinewidth": 0,
              "ticks": ""
             }
            },
            "type": "parcoords"
           }
          ],
          "pie": [
           {
            "automargin": true,
            "type": "pie"
           }
          ],
          "scatter": [
           {
            "fillpattern": {
             "fillmode": "overlay",
             "size": 10,
             "solidity": 0.2
            },
            "type": "scatter"
           }
          ],
          "scatter3d": [
           {
            "line": {
             "colorbar": {
              "outlinewidth": 0,
              "ticks": ""
             }
            },
            "marker": {
             "colorbar": {
              "outlinewidth": 0,
              "ticks": ""
             }
            },
            "type": "scatter3d"
           }
          ],
          "scattercarpet": [
           {
            "marker": {
             "colorbar": {
              "outlinewidth": 0,
              "ticks": ""
             }
            },
            "type": "scattercarpet"
           }
          ],
          "scattergeo": [
           {
            "marker": {
             "colorbar": {
              "outlinewidth": 0,
              "ticks": ""
             }
            },
            "type": "scattergeo"
           }
          ],
          "scattergl": [
           {
            "marker": {
             "colorbar": {
              "outlinewidth": 0,
              "ticks": ""
             }
            },
            "type": "scattergl"
           }
          ],
          "scattermapbox": [
           {
            "marker": {
             "colorbar": {
              "outlinewidth": 0,
              "ticks": ""
             }
            },
            "type": "scattermapbox"
           }
          ],
          "scatterpolar": [
           {
            "marker": {
             "colorbar": {
              "outlinewidth": 0,
              "ticks": ""
             }
            },
            "type": "scatterpolar"
           }
          ],
          "scatterpolargl": [
           {
            "marker": {
             "colorbar": {
              "outlinewidth": 0,
              "ticks": ""
             }
            },
            "type": "scatterpolargl"
           }
          ],
          "scatterternary": [
           {
            "marker": {
             "colorbar": {
              "outlinewidth": 0,
              "ticks": ""
             }
            },
            "type": "scatterternary"
           }
          ],
          "surface": [
           {
            "colorbar": {
             "outlinewidth": 0,
             "ticks": ""
            },
            "colorscale": [
             [
              0,
              "#0d0887"
             ],
             [
              0.1111111111111111,
              "#46039f"
             ],
             [
              0.2222222222222222,
              "#7201a8"
             ],
             [
              0.3333333333333333,
              "#9c179e"
             ],
             [
              0.4444444444444444,
              "#bd3786"
             ],
             [
              0.5555555555555556,
              "#d8576b"
             ],
             [
              0.6666666666666666,
              "#ed7953"
             ],
             [
              0.7777777777777778,
              "#fb9f3a"
             ],
             [
              0.8888888888888888,
              "#fdca26"
             ],
             [
              1,
              "#f0f921"
             ]
            ],
            "type": "surface"
           }
          ],
          "table": [
           {
            "cells": {
             "fill": {
              "color": "#EBF0F8"
             },
             "line": {
              "color": "white"
             }
            },
            "header": {
             "fill": {
              "color": "#C8D4E3"
             },
             "line": {
              "color": "white"
             }
            },
            "type": "table"
           }
          ]
         },
         "layout": {
          "annotationdefaults": {
           "arrowcolor": "#2a3f5f",
           "arrowhead": 0,
           "arrowwidth": 1
          },
          "autotypenumbers": "strict",
          "coloraxis": {
           "colorbar": {
            "outlinewidth": 0,
            "ticks": ""
           }
          },
          "colorscale": {
           "diverging": [
            [
             0,
             "#8e0152"
            ],
            [
             0.1,
             "#c51b7d"
            ],
            [
             0.2,
             "#de77ae"
            ],
            [
             0.3,
             "#f1b6da"
            ],
            [
             0.4,
             "#fde0ef"
            ],
            [
             0.5,
             "#f7f7f7"
            ],
            [
             0.6,
             "#e6f5d0"
            ],
            [
             0.7,
             "#b8e186"
            ],
            [
             0.8,
             "#7fbc41"
            ],
            [
             0.9,
             "#4d9221"
            ],
            [
             1,
             "#276419"
            ]
           ],
           "sequential": [
            [
             0,
             "#0d0887"
            ],
            [
             0.1111111111111111,
             "#46039f"
            ],
            [
             0.2222222222222222,
             "#7201a8"
            ],
            [
             0.3333333333333333,
             "#9c179e"
            ],
            [
             0.4444444444444444,
             "#bd3786"
            ],
            [
             0.5555555555555556,
             "#d8576b"
            ],
            [
             0.6666666666666666,
             "#ed7953"
            ],
            [
             0.7777777777777778,
             "#fb9f3a"
            ],
            [
             0.8888888888888888,
             "#fdca26"
            ],
            [
             1,
             "#f0f921"
            ]
           ],
           "sequentialminus": [
            [
             0,
             "#0d0887"
            ],
            [
             0.1111111111111111,
             "#46039f"
            ],
            [
             0.2222222222222222,
             "#7201a8"
            ],
            [
             0.3333333333333333,
             "#9c179e"
            ],
            [
             0.4444444444444444,
             "#bd3786"
            ],
            [
             0.5555555555555556,
             "#d8576b"
            ],
            [
             0.6666666666666666,
             "#ed7953"
            ],
            [
             0.7777777777777778,
             "#fb9f3a"
            ],
            [
             0.8888888888888888,
             "#fdca26"
            ],
            [
             1,
             "#f0f921"
            ]
           ]
          },
          "colorway": [
           "#636efa",
           "#EF553B",
           "#00cc96",
           "#ab63fa",
           "#FFA15A",
           "#19d3f3",
           "#FF6692",
           "#B6E880",
           "#FF97FF",
           "#FECB52"
          ],
          "font": {
           "color": "#2a3f5f"
          },
          "geo": {
           "bgcolor": "white",
           "lakecolor": "white",
           "landcolor": "#E5ECF6",
           "showlakes": true,
           "showland": true,
           "subunitcolor": "white"
          },
          "hoverlabel": {
           "align": "left"
          },
          "hovermode": "closest",
          "mapbox": {
           "style": "light"
          },
          "paper_bgcolor": "white",
          "plot_bgcolor": "#E5ECF6",
          "polar": {
           "angularaxis": {
            "gridcolor": "white",
            "linecolor": "white",
            "ticks": ""
           },
           "bgcolor": "#E5ECF6",
           "radialaxis": {
            "gridcolor": "white",
            "linecolor": "white",
            "ticks": ""
           }
          },
          "scene": {
           "xaxis": {
            "backgroundcolor": "#E5ECF6",
            "gridcolor": "white",
            "gridwidth": 2,
            "linecolor": "white",
            "showbackground": true,
            "ticks": "",
            "zerolinecolor": "white"
           },
           "yaxis": {
            "backgroundcolor": "#E5ECF6",
            "gridcolor": "white",
            "gridwidth": 2,
            "linecolor": "white",
            "showbackground": true,
            "ticks": "",
            "zerolinecolor": "white"
           },
           "zaxis": {
            "backgroundcolor": "#E5ECF6",
            "gridcolor": "white",
            "gridwidth": 2,
            "linecolor": "white",
            "showbackground": true,
            "ticks": "",
            "zerolinecolor": "white"
           }
          },
          "shapedefaults": {
           "line": {
            "color": "#2a3f5f"
           }
          },
          "ternary": {
           "aaxis": {
            "gridcolor": "white",
            "linecolor": "white",
            "ticks": ""
           },
           "baxis": {
            "gridcolor": "white",
            "linecolor": "white",
            "ticks": ""
           },
           "bgcolor": "#E5ECF6",
           "caxis": {
            "gridcolor": "white",
            "linecolor": "white",
            "ticks": ""
           }
          },
          "title": {
           "x": 0.05
          },
          "xaxis": {
           "automargin": true,
           "gridcolor": "white",
           "linecolor": "white",
           "ticks": "",
           "title": {
            "standoff": 15
           },
           "zerolinecolor": "white",
           "zerolinewidth": 2
          },
          "yaxis": {
           "automargin": true,
           "gridcolor": "white",
           "linecolor": "white",
           "ticks": "",
           "title": {
            "standoff": 15
           },
           "zerolinecolor": "white",
           "zerolinewidth": 2
          }
         }
        },
        "title": {
         "text": "Average Economy Rate of Ground"
        },
        "xaxis": {
         "anchor": "y",
         "domain": [
          0,
          1
         ],
         "title": {
          "text": "Ground"
         }
        },
        "yaxis": {
         "anchor": "x",
         "domain": [
          0,
          1
         ],
         "title": {
          "text": "Average Economy Rate"
         }
        }
       }
      }
     },
     "metadata": {},
     "output_type": "display_data"
    }
   ],
   "source": [
    "ground_econ_rate = df.groupby(['ground']).econ.mean().round(2).nlargest(10)\n",
    "\n",
    "fig_ground_econ_rate = px.line(ground_econ_rate,title='Average Economy Rate of Ground',color_discrete_sequence = ['navy'])\n",
    "fig_ground_econ_rate.update_yaxes(title_text = 'Average Economy Rate')\n",
    "fig_ground_econ_rate.update_xaxes(title_text = 'Ground')\n"
   ]
  },
  {
   "cell_type": "code",
   "execution_count": 24,
   "metadata": {},
   "outputs": [
    {
     "data": {
      "application/vnd.plotly.v1+json": {
       "config": {
        "plotlyServerURL": "https://plot.ly"
       },
       "data": [
        {
         "alignmentgroup": "True",
         "hovertemplate": "team=PAK<br>Opposition=%{x}<br>Runs per Ball=%{y}<extra></extra>",
         "legendgroup": "PAK",
         "marker": {
          "color": "#636efa"
         },
         "name": "PAK",
         "notched": false,
         "offsetgroup": "PAK",
         "orientation": "v",
         "showlegend": true,
         "type": "box",
         "x": [
          "v South Africa",
          "v New Zealand",
          "v Australia",
          "v Netherlands",
          "v Australia",
          "v Sri Lanka",
          "v Bangladesh",
          "v Bangladesh",
          "v Netherlands",
          "v India",
          "v Bangladesh",
          "v South Africa",
          "v South Africa",
          "v South Africa",
          "v Sri Lanka",
          "v Netherlands",
          "v Netherlands",
          "v India",
          "v Netherlands",
          "v Afghanistan",
          "v Bangladesh",
          "v Netherlands",
          "v Sri Lanka",
          "v New Zealand",
          "v Afghanistan",
          "v Sri Lanka",
          "v Sri Lanka",
          "v Bangladesh",
          "v Australia",
          "v New Zealand",
          "v New Zealand",
          "v New Zealand",
          "v Sri Lanka",
          "v South Africa",
          "v Afghanistan",
          "v India",
          "v Australia",
          "v South Africa",
          "v India",
          "v Australia",
          "v India",
          "v Afghanistan",
          "v Afghanistan",
          "v Afghanistan",
          "v Australia",
          "v New Zealand",
          "v Sri Lanka",
          "v New Zealand",
          "v Sri Lanka",
          "v Bangladesh",
          "v Afghanistan",
          "v Australia",
          "v Netherlands",
          "v Netherlands",
          "v Bangladesh",
          "v New Zealand",
          "v Australia",
          "v Afghanistan",
          "v South Africa",
          "v India",
          "v South Africa",
          "v India",
          "v Australia",
          "v South Africa",
          "v Afghanistan",
          "v Afghanistan",
          "v Netherlands",
          "v India",
          "v Netherlands",
          "v Sri Lanka",
          "v South Africa",
          "v Australia",
          "v Bangladesh",
          "v Australia",
          "v Afghanistan",
          "v South Africa",
          "v Sri Lanka",
          "v South Africa",
          "v India",
          "v Australia",
          "v Bangladesh",
          "v Afghanistan",
          "v Netherlands",
          "v Netherlands",
          "v Australia",
          "v Netherlands",
          "v Netherlands",
          "v Sri Lanka",
          "v India",
          "v South Africa",
          "v Sri Lanka",
          "v Australia",
          "v Netherlands",
          "v South Africa",
          "v Bangladesh",
          "v Australia",
          "v Afghanistan",
          "v South Africa",
          "v India",
          "v Netherlands",
          "v India",
          "v India",
          "v New Zealand",
          "v Afghanistan",
          "v India",
          "v India",
          "v India",
          "v South Africa",
          "v England",
          "v England",
          "v England",
          "v England",
          "v England",
          "v England",
          "v England",
          "v England",
          "v England",
          "v England",
          "v England",
          "v England",
          "v England",
          "v England",
          "v England",
          "v England",
          "v England",
          "v Netherlands",
          "v Australia",
          "v England"
         ],
         "x0": " ",
         "xaxis": "x",
         "y": [
          0.75,
          1,
          1.729166667,
          0.785714286,
          0.9,
          1.183333333,
          0.425925926,
          0.632653061,
          0.796296296,
          1,
          0.75,
          0.9375,
          0.833333333,
          1.033333333,
          1.066666667,
          0.888888889,
          0.738095238,
          0.944444444,
          0.880952381,
          0.733333333,
          0.733333333,
          0.9375,
          1.145833333,
          1.145833333,
          0.966666667,
          1.148148148,
          1.222222222,
          1.1,
          1.518518519,
          1.366666667,
          1.416666667,
          1.75,
          0.916666667,
          1.277777778,
          0.9,
          1.291666667,
          0.770833333,
          1.052631579,
          1.194444444,
          1.023809524,
          0.921568627,
          1.020833333,
          1.104166667,
          1.145833333,
          1.1875,
          1.5,
          1.0826,
          1.5555,
          1.097,
          1.0945,
          0.8043,
          0.9859,
          0.9066,
          1.3076,
          0.9855,
          1.0476,
          1.0491,
          0.7733,
          1,
          0.862,
          0.7692,
          0.7101,
          1.15,
          1.1944,
          1.0526,
          1.4814,
          0.9069,
          0.9473,
          0.9411,
          1.0333,
          1.1481,
          0.9677,
          1.238,
          1.3,
          0.7352,
          1,
          2.2,
          0.6774,
          0.8333,
          1.2857,
          1.1333,
          0.7727,
          1.1428,
          0.7894,
          0.875,
          1.0833,
          0.8,
          1,
          0.6315,
          0.6666,
          0.6666,
          1.25,
          0.8181,
          0.5294,
          0.5625,
          1,
          0.8,
          0.7777,
          0.6,
          0.2777,
          1,
          0.2857,
          0.4444,
          1,
          0.2,
          0.4,
          0.3333,
          0.5,
          1.133333333,
          0.844444444,
          0.705882353,
          1.52173913,
          0.783783784,
          1.086956522,
          1.142857143,
          0.571428571,
          0.6,
          0.111111111,
          0,
          1.066666667,
          1.2,
          1.233333333,
          0.904761905,
          1.388888889,
          0.95,
          0,
          0,
          0
         ],
         "y0": " ",
         "yaxis": "y"
        },
        {
         "alignmentgroup": "True",
         "hovertemplate": "team=ENG<br>Opposition=%{x}<br>Runs per Ball=%{y}<extra></extra>",
         "legendgroup": "ENG",
         "marker": {
          "color": "#EF553B"
         },
         "name": "ENG",
         "notched": false,
         "offsetgroup": "ENG",
         "orientation": "v",
         "showlegend": true,
         "type": "box",
         "x": [
          "v India",
          "v Netherlands",
          "v South Africa",
          "v Netherlands",
          "v Sri Lanka",
          "v India",
          "v Bangladesh",
          "v Australia",
          "v Afghanistan",
          "v Netherlands",
          "v India",
          "v Australia",
          "v Bangladesh",
          "v Afghanistan",
          "v South Africa",
          "v South Africa",
          "v Australia",
          "v Bangladesh",
          "v Afghanistan",
          "v Netherlands",
          "v Bangladesh",
          "v Afghanistan",
          "v Bangladesh",
          "v Australia",
          "v India",
          "v New Zealand",
          "v Bangladesh",
          "v Australia",
          "v Afghanistan",
          "v Sri Lanka",
          "v Sri Lanka",
          "v Sri Lanka",
          "v New Zealand",
          "v Australia",
          "v India",
          "v Sri Lanka",
          "v India",
          "v Sri Lanka",
          "v Afghanistan",
          "v Netherlands",
          "v New Zealand",
          "v Afghanistan",
          "v New Zealand",
          "v South Africa",
          "v New Zealand",
          "v New Zealand",
          "v South Africa",
          "v South Africa",
          "v Bangladesh",
          "v Netherlands",
          "v Netherlands",
          "v Bangladesh",
          "v New Zealand",
          "v Afghanistan",
          "v Australia",
          "v Bangladesh",
          "v Netherlands",
          "v Australia",
          "v South Africa",
          "v New Zealand",
          "v Sri Lanka",
          "v Australia",
          "v South Africa",
          "v New Zealand",
          "v Afghanistan",
          "v Australia",
          "v Sri Lanka",
          "v Sri Lanka",
          "v Netherlands",
          "v India",
          "v New Zealand",
          "v New Zealand",
          "v Bangladesh",
          "v Bangladesh",
          "v Afghanistan",
          "v Australia",
          "v Afghanistan",
          "v South Africa",
          "v India",
          "v India",
          "v New Zealand",
          "v Afghanistan",
          "v South Africa",
          "v Sri Lanka",
          "v India",
          "v Australia",
          "v Netherlands",
          "v Sri Lanka",
          "v New Zealand",
          "v New Zealand",
          "v Bangladesh",
          "v India",
          "v New Zealand",
          "v India",
          "v Australia",
          "v South Africa",
          "v New Zealand",
          "v New Zealand",
          "v Bangladesh",
          "v Bangladesh",
          "v Afghanistan",
          "v Netherlands",
          "v Afghanistan",
          "v Afghanistan",
          "v South Africa",
          "v South Africa",
          "v India",
          "v India",
          "v Afghanistan",
          "v Afghanistan",
          "v Sri Lanka",
          "v Bangladesh",
          "v South Africa",
          "v Netherlands",
          "v South Africa",
          "v Sri Lanka",
          "v Netherlands",
          "v Netherlands",
          "v Sri Lanka",
          "v Netherlands",
          "v Afghanistan",
          "v South Africa",
          "v Sri Lanka",
          "v Australia",
          "v Bangladesh",
          "v Netherlands",
          "v Sri Lanka",
          "v Australia",
          "v Pakistan",
          "v Pakistan",
          "v Pakistan",
          "v Pakistan",
          "v Pakistan",
          "v Pakistan",
          "v Pakistan",
          "v Pakistan",
          "v Pakistan",
          "v Pakistan",
          "v Pakistan",
          "v Pakistan",
          "v Pakistan",
          "v Pakistan",
          "v Pakistan",
          "v Pakistan",
          "v Bangladesh",
          "v Sri Lanka",
          "v India",
          "v India",
          "v India",
          "v Australia",
          "v Pakistan"
         ],
         "x0": " ",
         "xaxis": "x",
         "y": [
          0.75,
          1.125,
          1.660377358,
          0.452380952,
          1,
          0.611111111,
          0.716666667,
          0.947368421,
          0.7,
          0.84,
          0.583333333,
          0.633333333,
          1.020833333,
          0.925925926,
          1.111111111,
          1.016666667,
          1.166666667,
          0.722222222,
          0.791666667,
          0.452380952,
          0.483333333,
          0.55,
          0.7,
          1.166666667,
          0.851851852,
          1.305555556,
          1.068181818,
          0.8,
          0.981132075,
          0.944444444,
          1.166666667,
          0.958333333,
          1.333333333,
          1.166666667,
          1.208333333,
          0.833333333,
          0.770833333,
          1.392857143,
          1.708333333,
          0.976190476,
          1.25,
          1.916666667,
          1.119047619,
          1.297297297,
          1.833333333,
          1.071428571,
          1.12962963,
          1.80952381,
          1.3084,
          1.2857,
          1.1756,
          1.2058,
          0.8953,
          1.0819,
          0.7111,
          0.8813,
          1.1333,
          0.7812,
          2.5294,
          1.0238,
          0.589,
          0.9767,
          1.6666,
          0.9428,
          0.8205,
          0.9696,
          0.9677,
          1.12,
          0.8,
          0.5869,
          1.5625,
          0.909,
          2,
          1.3333,
          1.5384,
          1.3333,
          0.8181,
          0.68,
          0.9411,
          0.9411,
          1.1538,
          2.1428,
          2.1428,
          1,
          0.4838,
          1.0714,
          0.8823,
          0.8235,
          0.5833,
          0.7368,
          1.2727,
          0.6086,
          0.9285,
          0.65,
          0.7647,
          1,
          0.647,
          0.9166,
          0.7333,
          1.5714,
          0.647,
          0.6875,
          0.7142,
          0.4347,
          0.8333,
          0.7142,
          0.4347,
          0.5,
          0.5,
          0.3461,
          1.3333,
          1.2,
          0.5454,
          3,
          0.625,
          0.8333,
          0.4545,
          0.2666,
          0.3,
          2,
          0.5,
          0.3333,
          0.2857,
          0.4,
          0.5,
          1,
          0.1666,
          0.1428,
          1.105263158,
          0.833333333,
          0.967213115,
          0.794871795,
          1.764705882,
          1.5,
          3,
          1.333333333,
          1,
          0,
          0,
          0.933333333,
          0.9375,
          0.916666667,
          1,
          0.818181818,
          0,
          0,
          0,
          0,
          0,
          0,
          0
         ],
         "y0": " ",
         "yaxis": "y"
        },
        {
         "alignmentgroup": "True",
         "hovertemplate": "team=NZ<br>Opposition=%{x}<br>Runs per Ball=%{y}<extra></extra>",
         "legendgroup": "NZ",
         "marker": {
          "color": "#00cc96"
         },
         "name": "NZ",
         "notched": false,
         "offsetgroup": "NZ",
         "orientation": "v",
         "showlegend": true,
         "type": "box",
         "x": [
          "v England",
          "v Bangladesh",
          "v Australia",
          "v England",
          "v Afghanistan",
          "v Sri Lanka",
          "v Sri Lanka",
          "v Netherlands",
          "v Afghanistan",
          "v Australia",
          "v Sri Lanka",
          "v Afghanistan",
          "v Netherlands",
          "v Sri Lanka",
          "v England",
          "v Bangladesh",
          "v Bangladesh",
          "v India",
          "v South Africa",
          "v Australia",
          "v Bangladesh",
          "v Afghanistan",
          "v Pakistan",
          "v Bangladesh",
          "v Australia",
          "v Afghanistan",
          "v India",
          "v Netherlands",
          "v England",
          "v South Africa",
          "v Sri Lanka",
          "v India",
          "v India",
          "v Australia",
          "v South Africa",
          "v England",
          "v Pakistan",
          "v Sri Lanka",
          "v Netherlands",
          "v Bangladesh",
          "v India",
          "v Afghanistan",
          "v South Africa",
          "v South Africa",
          "v Netherlands",
          "v Netherlands",
          "v Pakistan",
          "v Bangladesh",
          "v Australia",
          "v Pakistan",
          "v Pakistan",
          "v India",
          "v Pakistan",
          "v South Africa",
          "v England",
          "v Australia",
          "v South Africa",
          "v England",
          "v India",
          "v England",
          "v Australia",
          "v Pakistan",
          "v Pakistan",
          "v Bangladesh",
          "v Bangladesh",
          "v India",
          "v Afghanistan",
          "v Netherlands",
          "v Afghanistan",
          "v South Africa",
          "v Australia",
          "v Afghanistan",
          "v Australia",
          "v Netherlands",
          "v Netherlands",
          "v Netherlands",
          "v Bangladesh",
          "v Sri Lanka",
          "v Sri Lanka",
          "v Sri Lanka",
          "v Pakistan",
          "v Pakistan",
          "v Netherlands",
          "v Pakistan",
          "v South Africa",
          "v Netherlands",
          "v Afghanistan",
          "v Australia",
          "v Pakistan",
          "v Australia",
          "v Pakistan",
          "v Afghanistan",
          "v South Africa",
          "v India",
          "v Australia",
          "v Afghanistan",
          "v Sri Lanka",
          "v India",
          "v Australia",
          "v Bangladesh",
          "v Sri Lanka",
          "v Australia",
          "v Netherlands",
          "v Australia",
          "v Bangladesh",
          "v Australia",
          "v South Africa",
          "v South Africa",
          "v Afghanistan",
          "v South Africa",
          "v South Africa",
          "v Sri Lanka",
          "v India",
          "v Netherlands",
          "v India",
          "v Netherlands",
          "v South Africa",
          "v Pakistan",
          "v Sri Lanka",
          "v South Africa",
          "v Afghanistan",
          "v India",
          "v India",
          "v England",
          "v India",
          "v India",
          "v South Africa",
          "v India",
          "v India",
          "v India",
          "v India",
          "v India",
          "v India",
          "v India",
          "v India",
          "v India",
          "v India",
          "v India",
          "v India",
          "v India",
          "v India",
          "v India",
          "v India",
          "v India"
         ],
         "x0": " ",
         "xaxis": "x",
         "y": [
          0.8,
          0.816666667,
          1.283333333,
          0.944444444,
          0.428571429,
          0.456521739,
          0.366666667,
          0.983333333,
          0.452380952,
          0.616666667,
          0.616666667,
          0.847826087,
          0.784313725,
          0.583333333,
          0.616666667,
          0.75,
          0.966666667,
          1.3125,
          1.283333333,
          1.333333333,
          1.083333333,
          0.533333333,
          0.9,
          0.516666667,
          2.666666667,
          1.133333333,
          0.616666667,
          0.766666667,
          0.8,
          0.816666667,
          1.083333333,
          1.018518519,
          1,
          1.763157895,
          2.090909091,
          1.266666667,
          0.333333333,
          0.5,
          0.916666667,
          1.833333333,
          1,
          0.722222222,
          1.416666667,
          0.939393939,
          0.666666667,
          0.708333333,
          1.166666667,
          0.880952381,
          2.111111111,
          1.4,
          1.833333333,
          0.851851852,
          1.388888889,
          1.238095238,
          1.333333333,
          1.166666667,
          0.966666667,
          1.2561,
          1.0236,
          1.2812,
          1.3033,
          1.1489,
          1.2025,
          1.3283,
          0.7289,
          0.862,
          0.8875,
          0.875,
          0.9189,
          1.2,
          1.4871,
          0.8437,
          1.0588,
          1.1521,
          1,
          1.0212,
          0.7627,
          1.0714,
          1.387,
          1.2352,
          1.64,
          1.4444,
          2.1176,
          0.8974,
          0.8918,
          0.8,
          0.7804,
          0.8648,
          1.6111,
          1.647,
          1.5294,
          2.0833,
          0.8,
          0.8846,
          0.9545,
          1.1111,
          1.7,
          0.6296,
          1.4166,
          1.4545,
          0.9333,
          0.75,
          2.5,
          1.25,
          0.6923,
          1.125,
          0.5625,
          0.6428,
          1.4,
          0.3888,
          0.6363,
          1.1666,
          0.75,
          0.3846,
          0.7142,
          1,
          0.2666,
          1,
          1,
          0.3333,
          0.1428,
          0.5,
          0.2,
          0,
          0,
          0,
          0,
          1.126,
          0.9452,
          1.2424,
          0.8666,
          0.5909,
          0.9,
          0.9,
          2,
          1,
          0.4,
          0,
          1.666666667,
          1.433333333,
          1.1,
          0.85,
          1.428571429,
          1.354166667
         ],
         "y0": " ",
         "yaxis": "y"
        },
        {
         "alignmentgroup": "True",
         "hovertemplate": "team=AFG<br>Opposition=%{x}<br>Runs per Ball=%{y}<extra></extra>",
         "legendgroup": "AFG",
         "marker": {
          "color": "#ab63fa"
         },
         "name": "AFG",
         "notched": false,
         "offsetgroup": "AFG",
         "orientation": "v",
         "showlegend": true,
         "type": "box",
         "x": [
          "v Pakistan",
          "v England",
          "v England",
          "v Netherlands",
          "v Sri Lanka",
          "v Netherlands",
          "v England",
          "v South Africa",
          "v South Africa",
          "v Sri Lanka",
          "v Australia",
          "v Australia",
          "v New Zealand",
          "v Pakistan",
          "v Australia",
          "v New Zealand",
          "v India",
          "v Bangladesh",
          "v Bangladesh",
          "v Bangladesh",
          "v Pakistan",
          "v Sri Lanka",
          "v Netherlands",
          "v New Zealand",
          "v England",
          "v England",
          "v Pakistan",
          "v Sri Lanka",
          "v South Africa",
          "v New Zealand",
          "v South Africa",
          "v Netherlands",
          "v South Africa",
          "v England",
          "v Bangladesh",
          "v Australia",
          "v Bangladesh",
          "v India",
          "v Netherlands",
          "v India",
          "v Sri Lanka",
          "v India",
          "v Netherlands",
          "v New Zealand",
          "v New Zealand",
          "v Pakistan",
          "v Sri Lanka",
          "v Bangladesh",
          "v South Africa",
          "v India",
          "v South Africa",
          "v Australia",
          "v Pakistan",
          "v India",
          "v Australia",
          "v Australia",
          "v South Africa",
          "v Pakistan",
          "v India",
          "v England",
          "v Pakistan",
          "v Sri Lanka",
          "v Pakistan",
          "v India",
          "v Sri Lanka",
          "v Sri Lanka",
          "v England",
          "v Netherlands",
          "v Netherlands",
          "v Pakistan",
          "v Bangladesh",
          "v Sri Lanka",
          "v New Zealand",
          "v Australia",
          "v Netherlands",
          "v Australia",
          "v England",
          "v England",
          "v New Zealand",
          "v Australia",
          "v South Africa",
          "v South Africa",
          "v South Africa",
          "v England",
          "v Bangladesh",
          "v Bangladesh",
          "v India",
          "v Australia",
          "v India",
          "v Australia",
          "v Netherlands",
          "v New Zealand",
          "v India",
          "v England",
          "v Bangladesh",
          "v Bangladesh",
          "v India",
          "v India",
          "v South Africa",
          "v England",
          "v New Zealand",
          "v South Africa",
          "v Australia",
          "v South Africa",
          "v New Zealand",
          "v India",
          "v Netherlands",
          "v India",
          "v Bangladesh",
          "v England",
          "v New Zealand",
          "v New Zealand",
          "v South Africa",
          "v New Zealand",
          "v Bangladesh",
          "v Bangladesh",
          "v England",
          "v New Zealand",
          "v England",
          "v England",
          "v India",
          "v South Africa",
          "v South Africa",
          "v South Africa",
          "v Bangladesh",
          "v Bangladesh",
          "v New Zealand",
          "v New Zealand",
          "v Sri Lanka"
         ],
         "x0": " ",
         "xaxis": "x",
         "y": [
          0.816666667,
          0.85,
          0.444444444,
          0.574074074,
          0.566666667,
          0.49122807,
          0.649122807,
          0.583333333,
          0.616666667,
          0.633333333,
          0.733333333,
          0.87037037,
          1,
          1.238095238,
          1.238095238,
          1.333333333,
          1.1875,
          0.75,
          0.633333333,
          0.911764706,
          0.516666667,
          0.880952381,
          0.666666667,
          0.716666667,
          1.222222222,
          1.19047619,
          1.666666667,
          0.833333333,
          0.85,
          0.95,
          1.333333333,
          0.611111111,
          2,
          1.083333333,
          0.5,
          1.666666667,
          0.714285714,
          1.033333333,
          0.516666667,
          1.333333333,
          0.916666667,
          1.416666667,
          1.2,
          0.928571429,
          0.854166667,
          0.683333333,
          1.205128205,
          0.888888889,
          0.907407407,
          1.388888889,
          1.333333333,
          0.883333333,
          1.145833333,
          1.333333333,
          1.358490566,
          0.902,
          0.9065,
          0.7699,
          0.909,
          1.4035,
          0.9166,
          1.1587,
          1.2264,
          0.8985,
          0.8378,
          0.7837,
          0.8787,
          0.875,
          0.9629,
          1.0666,
          0.758,
          0.6842,
          0.5806,
          1.9444,
          1.1071,
          0.6818,
          0.5833,
          1.75,
          0.8437,
          0.6046,
          0.5652,
          0.8125,
          1.1363,
          1.0454,
          0.88,
          1.1,
          0.7857,
          1.2222,
          0.75,
          0.84,
          0.5882,
          0.9047,
          0.7037,
          0.7916,
          0.72,
          0.4736,
          0.7272,
          1.3333,
          0.5,
          0.3888,
          0.9333,
          0.4666,
          1.2,
          0.8571,
          0.5238,
          0.8333,
          0.909,
          1.125,
          0.5625,
          0.6,
          0.2758,
          0.6153,
          1.6,
          0.7777,
          0.5,
          0.3846,
          0.8333,
          1.3333,
          0.375,
          0.5,
          0.25,
          0.2857,
          0.6666,
          0.5,
          0.25,
          0,
          0,
          0,
          0
         ],
         "y0": " ",
         "yaxis": "y"
        },
        {
         "alignmentgroup": "True",
         "hovertemplate": "team=NED<br>Opposition=%{x}<br>Runs per Ball=%{y}<extra></extra>",
         "legendgroup": "NED",
         "marker": {
          "color": "#FFA15A"
         },
         "name": "NED",
         "notched": false,
         "offsetgroup": "NED",
         "orientation": "v",
         "showlegend": true,
         "type": "box",
         "x": [
          "v South Africa",
          "v England",
          "v Bangladesh",
          "v South Africa",
          "v Bangladesh",
          "v Pakistan",
          "v Australia",
          "v Sri Lanka",
          "v South Africa",
          "v Pakistan",
          "v South Africa",
          "v New Zealand",
          "v New Zealand",
          "v New Zealand",
          "v England",
          "v England",
          "v Australia",
          "v South Africa",
          "v Bangladesh",
          "v Afghanistan",
          "v Bangladesh",
          "v Afghanistan",
          "v Pakistan",
          "v Bangladesh",
          "v Afghanistan",
          "v Sri Lanka",
          "v Sri Lanka",
          "v Pakistan",
          "v Pakistan",
          "v England",
          "v Australia",
          "v New Zealand",
          "v New Zealand",
          "v Afghanistan",
          "v Bangladesh",
          "v Pakistan",
          "v Pakistan",
          "v South Africa",
          "v Australia",
          "v England",
          "v Australia",
          "v New Zealand",
          "v Sri Lanka",
          "v England",
          "v Afghanistan",
          "v Pakistan",
          "v New Zealand",
          "v Australia",
          "v Sri Lanka",
          "v Afghanistan",
          "v Sri Lanka",
          "v Australia",
          "v South Africa",
          "v Sri Lanka",
          "v New Zealand",
          "v Bangladesh",
          "v Pakistan",
          "v Sri Lanka",
          "v Afghanistan",
          "v Pakistan",
          "v Afghanistan",
          "v England",
          "v Bangladesh",
          "v England",
          "v England",
          "v Bangladesh",
          "v England",
          "v New Zealand",
          "v New Zealand",
          "v South Africa",
          "v Sri Lanka",
          "v Afghanistan",
          "v Pakistan",
          "v Australia",
          "v South Africa",
          "v Bangladesh",
          "v New Zealand",
          "v South Africa",
          "v South Africa",
          "v New Zealand",
          "v South Africa",
          "v Pakistan",
          "v Bangladesh",
          "v New Zealand",
          "v Sri Lanka",
          "v Sri Lanka",
          "v Bangladesh",
          "v Australia",
          "v Australia",
          "v New Zealand",
          "v South Africa",
          "v New Zealand",
          "v Australia",
          "v Afghanistan",
          "v Afghanistan",
          "v Pakistan",
          "v South Africa",
          "v Australia",
          "v England",
          "v Sri Lanka",
          "v Sri Lanka",
          "v Bangladesh",
          "v New Zealand",
          "v Pakistan",
          "v Sri Lanka",
          "v Sri Lanka",
          "v Australia",
          "v Bangladesh",
          "v Pakistan",
          "v Pakistan",
          "v England",
          "v New Zealand",
          "v Pakistan",
          "v Sri Lanka",
          "v Sri Lanka",
          "v Australia",
          "v Afghanistan",
          "v England",
          "v Bangladesh",
          "v Afghanistan",
          "v Afghanistan",
          "v South Africa",
          "v South Africa",
          "v Afghanistan",
          "v England",
          "v Pakistan",
          "v New Zealand",
          "v Australia",
          "v Afghanistan",
          "v England",
          "v Pakistan",
          "v Australia",
          "v Australia",
          "v Australia",
          "v Bangladesh",
          "v Bangladesh",
          "v Afghanistan",
          "v England",
          "v England",
          "v India",
          "v India",
          "v India",
          "v India",
          "v India",
          "v India",
          "v India",
          "v India",
          "v India",
          "v India",
          "v India",
          "v India",
          "v Netherlands",
          "v India",
          "v India",
          "v India",
          "v India",
          "v India"
         ],
         "x0": " ",
         "xaxis": "x",
         "y": [
          1.132075472,
          1.233333333,
          0.595238095,
          0.62962963,
          0.522727273,
          1.148148148,
          1.233333333,
          0.733333333,
          0.75,
          0.8125,
          0.740740741,
          1.037037037,
          1.092592593,
          1.033333333,
          1.116666667,
          1.466666667,
          1.916666667,
          0.888888889,
          0.595238095,
          1.388888889,
          0.433333333,
          0.9,
          0.833333333,
          0.555555556,
          0.714285714,
          0.8125,
          0.78,
          1.111111111,
          0.8,
          0.95,
          1.404761905,
          1.066666667,
          1.5,
          0.666666667,
          1.083333333,
          1.25,
          1.333333333,
          0.633333333,
          0.791666667,
          1.222222222,
          1.125,
          1.166666667,
          1.611111111,
          0.738095238,
          1.166666667,
          1,
          0.976190476,
          1.366666667,
          0.777777778,
          0.960784314,
          0.95,
          1.066666667,
          1.1304,
          0.8536,
          0.9452,
          0.764,
          0.9852,
          0.7866,
          0.6744,
          0.7761,
          1.05,
          1.2058,
          1,
          0.9047,
          0.5967,
          0.5737,
          0.6734,
          1.1111,
          0.8529,
          1.5263,
          0.9354,
          0.8285,
          1,
          1,
          2.5555,
          1.4375,
          0.8076,
          0.8,
          0.5135,
          0.72,
          0.72,
          0.8095,
          0.5312,
          0.5161,
          0.5925,
          1,
          0.4545,
          0.7777,
          0.5454,
          0.6,
          0.48,
          0.55,
          0.5238,
          0.3333,
          0.4545,
          0.5555,
          0.3703,
          0.909,
          0.8333,
          1.5,
          0.5625,
          1.5,
          0.5333,
          0.5833,
          1,
          0.2857,
          0.6666,
          0.75,
          0.4166,
          0.5555,
          0.4545,
          1.3333,
          0.5714,
          0.3076,
          0.8,
          0.5714,
          0.1666,
          1.3333,
          0.3333,
          0.5,
          0.2,
          0.125,
          0.2857,
          0.1538,
          1,
          0.5,
          0.1666,
          0.125,
          0.25,
          0.3333,
          0,
          0,
          0,
          0,
          0,
          0,
          0,
          0,
          0,
          1.384615385,
          0.5625,
          1.09375,
          0.714285714,
          0.566666667,
          1.066666667,
          2,
          0.571428571,
          0.454545455,
          0.8,
          0.75,
          1.366666667,
          0.722222222,
          0.883333333,
          1.5,
          1.388888889,
          1.238095238,
          1.783333333
         ],
         "y0": " ",
         "yaxis": "y"
        },
        {
         "alignmentgroup": "True",
         "hovertemplate": "team=BAN<br>Opposition=%{x}<br>Runs per Ball=%{y}<extra></extra>",
         "legendgroup": "BAN",
         "marker": {
          "color": "#19d3f3"
         },
         "name": "BAN",
         "notched": false,
         "offsetgroup": "BAN",
         "orientation": "v",
         "showlegend": true,
         "type": "box",
         "x": [
          "v Pakistan",
          "v England",
          "v Sri Lanka",
          "v Afghanistan",
          "v England",
          "v Afghanistan",
          "v Afghanistan",
          "v Netherlands",
          "v Netherlands",
          "v Netherlands",
          "v India",
          "v Netherlands",
          "v Sri Lanka",
          "v Sri Lanka",
          "v South Africa",
          "v Afghanistan",
          "v Afghanistan",
          "v New Zealand",
          "v Netherlands",
          "v England",
          "v South Africa",
          "v Sri Lanka",
          "v England",
          "v New Zealand",
          "v India",
          "v South Africa",
          "v South Africa",
          "v Pakistan",
          "v India",
          "v Afghanistan",
          "v Netherlands",
          "v South Africa",
          "v Pakistan",
          "v South Africa",
          "v India",
          "v Pakistan",
          "v Pakistan",
          "v Sri Lanka",
          "v New Zealand",
          "v Pakistan",
          "v India",
          "v England",
          "v New Zealand",
          "v New Zealand",
          "v India",
          "v England",
          "v South Africa",
          "v South Africa",
          "v Sri Lanka",
          "v Sri Lanka",
          "v England",
          "v New Zealand",
          "v India",
          "v Afghanistan",
          "v Afghanistan",
          "v Pakistan",
          "v England",
          "v India",
          "v India",
          "v Pakistan",
          "v Pakistan",
          "v New Zealand",
          "v New Zealand",
          "v England",
          "v India",
          "v Netherlands",
          "v New Zealand",
          "v Pakistan",
          "v Sri Lanka",
          "v South Africa",
          "v Sri Lanka",
          "v Netherlands",
          "v Netherlands",
          "v South Africa",
          "v New Zealand",
          "v Netherlands",
          "v New Zealand",
          "v India",
          "v Sri Lanka",
          "v England",
          "v South Africa",
          "v Netherlands",
          "v Afghanistan",
          "v England",
          "v India",
          "v Afghanistan",
          "v New Zealand",
          "v England",
          "v South Africa",
          "v South Africa",
          "v South Africa",
          "v Netherlands",
          "v Sri Lanka",
          "v Netherlands",
          "v Sri Lanka",
          "v England",
          "v India",
          "v South Africa",
          "v India",
          "v New Zealand",
          "v Pakistan",
          "v South Africa",
          "v Pakistan",
          "v Sri Lanka",
          "v Afghanistan",
          "v Netherlands",
          "v Pakistan",
          "v New Zealand",
          "v Pakistan",
          "v England",
          "v India",
          "v Netherlands",
          "v Pakistan",
          "v Sri Lanka",
          "v Afghanistan",
          "v New Zealand",
          "v India",
          "v Pakistan",
          "v England",
          "v England",
          "v South Africa",
          "v Netherlands",
          "v Australia",
          "v Australia",
          "v Australia",
          "v Australia",
          "v Australia",
          "v Australia",
          "v Australia",
          "v Australia",
          "v Australia",
          "v Australia",
          "v Australia",
          "v Australia",
          "v Australia",
          "v Australia",
          "v Australia",
          "v England",
          "v New Zealand",
          "v South Africa",
          "v Pakistan"
         ],
         "x0": " ",
         "xaxis": "x",
         "y": [
          1.111111111,
          1.25,
          1.333333333,
          0.894736842,
          1.479166667,
          0.462962963,
          0.625,
          0.6,
          0.952380952,
          0.796296296,
          0.783333333,
          0.85,
          0.894736842,
          0.95,
          1.861111111,
          0.666666667,
          0.888888889,
          0.75,
          0.616666667,
          1.055555556,
          0.814814815,
          0.816666667,
          0.866666667,
          0.9,
          1.354166667,
          1.277777778,
          1.407407407,
          0.833333333,
          1,
          1.166666667,
          0.708333333,
          1.111111111,
          1.041666667,
          0.9,
          0.966666667,
          0.909090909,
          1,
          0.65,
          0.914893617,
          1.119047619,
          1.125,
          1.527777778,
          1.166666667,
          1.074074074,
          1.052631579,
          1.166666667,
          1.407407407,
          1,
          0.891,
          1.2615,
          1.1515,
          0.88,
          0.8048,
          0.7108,
          0.7808,
          0.8,
          0.7968,
          1.186,
          1.2777,
          0.7031,
          0.6718,
          0.8367,
          0.7843,
          0.6393,
          0.826,
          0.875,
          0.6521,
          0.8333,
          1.0454,
          0.5,
          0.9565,
          0.4878,
          0.5714,
          1,
          0.8947,
          0.4473,
          0.9411,
          0.4571,
          2.1428,
          0.6,
          0.6,
          0.9375,
          0.7368,
          0.4375,
          0.7777,
          0.7222,
          0.52,
          0.8571,
          0.7058,
          0.5789,
          0.5238,
          0.3142,
          0.7692,
          0.5,
          1.8,
          1.1428,
          0.4705,
          0.4705,
          2.3333,
          0.875,
          2.3333,
          1.5,
          0.4615,
          0.8333,
          0.3846,
          0.3571,
          0.625,
          0.4,
          1.3333,
          0.3333,
          0.2307,
          0.25,
          0.4285,
          0.6,
          0.6666,
          0.6666,
          0.1428,
          0.25,
          0.5,
          0.1111,
          0.25,
          0.2,
          0.936708861,
          0.789473684,
          1.058823529,
          0.8,
          1.142857143,
          1.45,
          0.875,
          0.636363636,
          0.666666667,
          0,
          1.016666667,
          1.310344828,
          0.703703704,
          1.305555556,
          1.416666667,
          0,
          0,
          0,
          0
         ],
         "y0": " ",
         "yaxis": "y"
        },
        {
         "alignmentgroup": "True",
         "hovertemplate": "team=SA<br>Opposition=%{x}<br>Runs per Ball=%{y}<extra></extra>",
         "legendgroup": "SA",
         "marker": {
          "color": "#FF6692"
         },
         "name": "SA",
         "notched": false,
         "offsetgroup": "SA",
         "orientation": "v",
         "showlegend": true,
         "type": "box",
         "x": [
          "v Bangladesh",
          "v Sri Lanka",
          "v Afghanistan",
          "v England",
          "v Netherlands",
          "v Australia",
          "v England",
          "v Afghanistan",
          "v New Zealand",
          "v Pakistan",
          "v New Zealand",
          "v Australia",
          "v England",
          "v Pakistan",
          "v Australia",
          "v Bangladesh",
          "v New Zealand",
          "v Bangladesh",
          "v Pakistan",
          "v Sri Lanka",
          "v Australia",
          "v Netherlands",
          "v Bangladesh",
          "v Netherlands",
          "v Sri Lanka",
          "v Afghanistan",
          "v Sri Lanka",
          "v New Zealand",
          "v Australia",
          "v England",
          "v India",
          "v Bangladesh",
          "v Afghanistan",
          "v Netherlands",
          "v England",
          "v Pakistan",
          "v India",
          "v Sri Lanka",
          "v Netherlands",
          "v India",
          "v India",
          "v India",
          "v India",
          "v Pakistan",
          "v Afghanistan",
          "v New Zealand",
          "v Afghanistan",
          "v Pakistan",
          "v Bangladesh",
          "v New Zealand",
          "v New Zealand",
          "v Australia",
          "v England",
          "v Sri Lanka",
          "v Sri Lanka",
          "v Sri Lanka",
          "v Pakistan",
          "v Bangladesh",
          "v England",
          "v Afghanistan",
          "v England",
          "v England",
          "v Bangladesh",
          "v Australia",
          "v New Zealand",
          "v Netherlands",
          "v England",
          "v Afghanistan",
          "v Netherlands",
          "v Sri Lanka",
          "v Afghanistan",
          "v Australia",
          "v Bangladesh",
          "v Sri Lanka",
          "v Australia",
          "v Pakistan",
          "v Netherlands",
          "v Pakistan",
          "v Australia",
          "v Australia",
          "v Afghanistan",
          "v Pakistan",
          "v New Zealand",
          "v Afghanistan",
          "v Afghanistan",
          "v Netherlands",
          "v Pakistan",
          "v Netherlands",
          "v Pakistan",
          "v Australia",
          "v Netherlands",
          "v New Zealand",
          "v India",
          "v India",
          "v Sri Lanka",
          "v Bangladesh",
          "v Pakistan",
          "v India",
          "v India",
          "v Pakistan",
          "v Afghanistan",
          "v Netherlands",
          "v Netherlands",
          "v India",
          "v Sri Lanka",
          "v Netherlands",
          "v Pakistan",
          "v India",
          "v New Zealand",
          "v India",
          "v England",
          "v India",
          "v Pakistan",
          "v India",
          "v Netherlands",
          "v England",
          "v Pakistan",
          "v England",
          "v England",
          "v Bangladesh",
          "v Netherlands",
          "v Bangladesh",
          "v India",
          "v India",
          "v Australia",
          "v Australia",
          "v Australia",
          "v Australia",
          "v Australia",
          "v Australia",
          "v Australia",
          "v Australia",
          "v Australia",
          "v Australia",
          "v Australia",
          "v Australia",
          "v Australia",
          "v Australia",
          "v Australia",
          "v Australia",
          "v Australia"
         ],
         "x0": " ",
         "xaxis": "x",
         "y": [
          1.033333333,
          1.259259259,
          0.416666667,
          0.866666667,
          0.5625,
          0.5,
          1.166666667,
          0.733333333,
          0.851851852,
          1,
          0.645833333,
          0.6875,
          1.458333333,
          0.796296296,
          0.808510638,
          0.8125,
          1.051282051,
          0.7,
          1,
          1.063829787,
          1.285714286,
          1.037037037,
          1.076923077,
          1.055555556,
          1.033333333,
          1.352941176,
          1.533333333,
          0.444444444,
          0.375,
          2.25,
          0.5,
          0.533333333,
          0.857142857,
          0.703703704,
          1.055555556,
          0.97826087,
          0.8,
          1.020833333,
          1.1875,
          1.26,
          1.2,
          1.620689655,
          1.416666667,
          0.833333333,
          0.925925926,
          0.777777778,
          0.666666667,
          1.037037037,
          1.2428,
          1.1271,
          0.9827,
          1.0283,
          1.6268,
          0.9818,
          1.9629,
          1.1904,
          0.9784,
          1.8367,
          1.1333,
          0.8,
          1.7857,
          0.9836,
          0.8695,
          1.2727,
          1.7666,
          0.8269,
          0.9545,
          0.8723,
          1.081,
          1.8571,
          1.054,
          0.6363,
          2.2666,
          1.6,
          1.074,
          0.8787,
          1,
          1.037,
          0.8666,
          1.1818,
          0.7812,
          1.7142,
          0.8571,
          0.7272,
          0.8214,
          0.9565,
          0.5384,
          0.909,
          1.4285,
          1.3076,
          0.5161,
          2.1428,
          0.4666,
          0.4062,
          1.7142,
          0.6315,
          1.2,
          0.5789,
          1,
          0.7692,
          0.7692,
          0.36,
          1.5,
          1.5,
          1.6,
          0.2916,
          0.3333,
          0.6363,
          6,
          0.2307,
          0.8333,
          0.5,
          0.6666,
          1,
          0.5714,
          2,
          0.2857,
          1,
          1,
          1,
          0.3333,
          0.1428,
          0.0909,
          0,
          0.8706,
          0.9791,
          0.4871,
          0.5,
          0.8333,
          0.1935,
          0.5,
          0.2142,
          0.2,
          0,
          0,
          0.7,
          0.87037037,
          0.479166667,
          0.4,
          1.138888889,
          1.346153846
         ],
         "y0": " ",
         "yaxis": "y"
        },
        {
         "alignmentgroup": "True",
         "hovertemplate": "team=SL<br>Opposition=%{x}<br>Runs per Ball=%{y}<extra></extra>",
         "legendgroup": "SL",
         "marker": {
          "color": "#B6E880"
         },
         "name": "SL",
         "notched": false,
         "offsetgroup": "SL",
         "orientation": "v",
         "showlegend": true,
         "type": "box",
         "x": [
          "v Bangladesh",
          "v England",
          "v New Zealand",
          "v India",
          "v Netherlands",
          "v Netherlands",
          "v England",
          "v Australia",
          "v Bangladesh",
          "v England",
          "v Bangladesh",
          "v Afghanistan",
          "v Pakistan",
          "v South Africa",
          "v New Zealand",
          "v England",
          "v New Zealand",
          "v Netherlands",
          "v Afghanistan",
          "v Australia",
          "v Pakistan",
          "v India",
          "v South Africa",
          "v South Africa",
          "v Pakistan",
          "v South Africa",
          "v Pakistan",
          "v England",
          "v India",
          "v Australia",
          "v Netherlands",
          "v Australia",
          "v Afghanistan",
          "v Bangladesh",
          "v Afghanistan",
          "v New Zealand",
          "v Pakistan",
          "v South Africa",
          "v Pakistan",
          "v England",
          "v South Africa",
          "v Netherlands",
          "v Australia",
          "v Bangladesh",
          "v Australia",
          "v Afghanistan",
          "v India",
          "v Bangladesh",
          "v Afghanistan",
          "v Netherlands",
          "v New Zealand",
          "v Pakistan",
          "v India",
          "v India",
          "v Pakistan",
          "v Pakistan",
          "v Bangladesh",
          "v Netherlands",
          "v South Africa",
          "v Australia",
          "v England",
          "v South Africa",
          "v South Africa",
          "v England",
          "v Australia",
          "v Netherlands",
          "v Pakistan",
          "v New Zealand",
          "v Afghanistan",
          "v Netherlands",
          "v Bangladesh",
          "v Bangladesh",
          "v Afghanistan",
          "v New Zealand",
          "v Afghanistan",
          "v Bangladesh",
          "v South Africa",
          "v Netherlands",
          "v Afghanistan",
          "v Pakistan",
          "v Australia",
          "v South Africa",
          "v Afghanistan",
          "v Afghanistan",
          "v Bangladesh",
          "v Bangladesh",
          "v New Zealand",
          "v New Zealand",
          "v New Zealand",
          "v Afghanistan",
          "v Afghanistan",
          "v India",
          "v India",
          "v Pakistan",
          "v India",
          "v South Africa",
          "v Netherlands",
          "v England",
          "v Pakistan",
          "v Australia",
          "v Australia",
          "v New Zealand",
          "v South Africa",
          "v Australia",
          "v New Zealand",
          "v New Zealand",
          "v South Africa",
          "v Netherlands",
          "v Afghanistan",
          "v India",
          "v South Africa",
          "v Netherlands",
          "v Australia",
          "v England",
          "v Bangladesh",
          "v Bangladesh",
          "v Australia",
          "v Australia",
          "v New Zealand",
          "v Pakistan",
          "v Pakistan",
          "v Afghanistan",
          "v India",
          "v India",
          "v New Zealand",
          "v New Zealand",
          "v South Africa",
          "v South Africa",
          "v Pakistan",
          "v Pakistan",
          "v Australia",
          "v India",
          "v India",
          "v India",
          "v India",
          "v India",
          "v Bangladesh",
          "v Bangladesh"
         ],
         "x0": " ",
         "xaxis": "x",
         "y": [
          1.15,
          0.466666667,
          1.208333333,
          1.333333333,
          0.844827586,
          0.925925926,
          0.833333333,
          0.703703704,
          0.813953488,
          0.857142857,
          0.814814815,
          0.888888889,
          1.071428571,
          1.433333333,
          0.833333333,
          0.42,
          1.023809524,
          0.733333333,
          0.8,
          0.946428571,
          0.983333333,
          1.183333333,
          1.35,
          1.5,
          1.666666667,
          1.583333333,
          1.666666667,
          1.666666667,
          0.611111111,
          0.722222222,
          0.541666667,
          0.833333333,
          1,
          1.111111111,
          0.875,
          1.833333333,
          0.933333333,
          1,
          1.5,
          1.233333333,
          1.625,
          0.875,
          1.958333333,
          1.958333333,
          1.166666667,
          0.910714286,
          1.083333333,
          1.125,
          0.916666667,
          1.074074074,
          1.526315789,
          1.033333333,
          1.203703704,
          1.116666667,
          1.5844,
          1.2134,
          1.0285,
          0.8504,
          1.2153,
          0.9512,
          0.9277,
          1.8095,
          1.0967,
          1.2037,
          0.9104,
          1.0384,
          0.836,
          1.8214,
          0.7666,
          0.6666,
          1.1388,
          0.9761,
          0.78,
          0.4175,
          0.9,
          0.9444,
          1.0645,
          0.8108,
          0.9354,
          0.7352,
          0.641,
          1.2105,
          0.8846,
          0.7857,
          0.6774,
          0.6333,
          0.7916,
          0.3958,
          0.5925,
          0.7142,
          0.5384,
          0.8235,
          0.5217,
          0.6666,
          0.48,
          0.7857,
          0.647,
          0.9166,
          1.25,
          0.6923,
          1,
          1,
          0.4666,
          0.5384,
          0.8571,
          0.3529,
          0.3125,
          0.625,
          0.7142,
          0.8333,
          2,
          1.3333,
          0.5,
          0.8,
          0.8,
          0.4444,
          0.2222,
          0.1818,
          0.25,
          0.3333,
          0.3333,
          0.25,
          0.1,
          0.0416,
          0.5,
          0.05,
          0,
          0,
          0,
          0,
          0,
          0,
          0,
          0,
          0,
          0,
          0,
          0
         ],
         "y0": " ",
         "yaxis": "y"
        },
        {
         "alignmentgroup": "True",
         "hovertemplate": "team=AUS<br>Opposition=%{x}<br>Runs per Ball=%{y}<extra></extra>",
         "legendgroup": "AUS",
         "marker": {
          "color": "#FF97FF"
         },
         "name": "AUS",
         "notched": false,
         "offsetgroup": "AUS",
         "orientation": "v",
         "showlegend": true,
         "type": "box",
         "x": [
          "v New Zealand",
          "v Netherlands",
          "v Sri Lanka",
          "v South Africa",
          "v Netherlands",
          "v Sri Lanka",
          "v Pakistan",
          "v England",
          "v India",
          "v Afghanistan",
          "v Pakistan",
          "v Sri Lanka",
          "v England",
          "v England",
          "v South Africa",
          "v Pakistan",
          "v New Zealand",
          "v England",
          "v New Zealand",
          "v Netherlands",
          "v Netherlands",
          "v Netherlands",
          "v India",
          "v England",
          "v Sri Lanka",
          "v Pakistan",
          "v Afghanistan",
          "v Afghanistan",
          "v South Africa",
          "v New Zealand",
          "v Pakistan",
          "v South Africa",
          "v Afghanistan",
          "v South Africa",
          "v Afghanistan",
          "v South Africa",
          "v India",
          "v South Africa",
          "v Sri Lanka",
          "v Afghanistan",
          "v New Zealand",
          "v England",
          "v India",
          "v India",
          "v Sri Lanka",
          "v Pakistan",
          "v Afghanistan",
          "v India",
          "v New Zealand",
          "v Afghanistan",
          "v Pakistan",
          "v Pakistan",
          "v New Zealand",
          "v Netherlands",
          "v Netherlands",
          "v New Zealand",
          "v Netherlands",
          "v England",
          "v Netherlands",
          "v Sri Lanka",
          "v Sri Lanka",
          "v England",
          "v India",
          "v South Africa",
          "v England",
          "v India",
          "v New Zealand",
          "v Sri Lanka",
          "v New Zealand",
          "v New Zealand",
          "v New Zealand",
          "v England",
          "v Sri Lanka",
          "v England",
          "v India",
          "v India",
          "v South Africa",
          "v Afghanistan",
          "v South Africa",
          "v Pakistan",
          "v Sri Lanka",
          "v South Africa",
          "v New Zealand",
          "v New Zealand",
          "v Afghanistan",
          "v India",
          "v India",
          "v England",
          "v Netherlands",
          "v Afghanistan",
          "v South Africa",
          "v Pakistan",
          "v Netherlands",
          "v Afghanistan",
          "v South Africa",
          "v Sri Lanka",
          "v England",
          "v England",
          "v England",
          "v Netherlands",
          "v India",
          "v Pakistan",
          "v Netherlands",
          "v South Africa",
          "v Pakistan",
          "v Pakistan",
          "v India",
          "v Afghanistan",
          "v South Africa",
          "v South Africa",
          "v South Africa",
          "v England",
          "v Afghanistan",
          "v South Africa",
          "v Pakistan",
          "v India",
          "v Pakistan",
          "v Netherlands",
          "v England",
          "v New Zealand",
          "v Bangladesh",
          "v Bangladesh",
          "v Bangladesh",
          "v Bangladesh",
          "v Bangladesh",
          "v Bangladesh",
          "v Bangladesh",
          "v Bangladesh",
          "v Bangladesh",
          "v Bangladesh",
          "v Bangladesh",
          "v India",
          "v India",
          "v Sri Lanka",
          "v Pakistan",
          "v Pakistan",
          "v Netherlands",
          "v New Zealand",
          "v Afghanistan",
          "v Afghanistan",
          "v South Africa",
          "v South Africa",
          "v South Africa",
          "v South Africa",
          "v South Africa",
          "v South Africa",
          "v South Africa",
          "v South Africa",
          "v South Africa",
          "v South Africa",
          "v South Africa",
          "v South Africa",
          "v South Africa",
          "v South Africa",
          "v South Africa"
         ],
         "x0": " ",
         "xaxis": "x",
         "y": [
          1.233333333,
          0.791666667,
          0.761904762,
          0.566666667,
          0.444444444,
          0.979166667,
          0.883333333,
          0.35,
          0.703703704,
          0.722222222,
          1.333333333,
          0.716666667,
          0.890909091,
          0.816666667,
          0.981481481,
          1.377777778,
          1.1,
          1.1,
          1.296296296,
          0.583333333,
          0.916666667,
          0.75,
          0.645833333,
          1.416666667,
          0.631578947,
          0.616666667,
          0.916666667,
          0.966666667,
          1.111111111,
          1.033333333,
          1.354166667,
          1.166666667,
          1.296296296,
          1.314814815,
          0.333333333,
          1,
          0.916666667,
          0.916666667,
          0.916666667,
          0.833333333,
          1.5,
          0.933333333,
          0.868421053,
          0.6875,
          0.857142857,
          1.333333333,
          0.979166667,
          1.104166667,
          1.648148148,
          1.5703,
          1.3145,
          1.1203,
          1.6268,
          2.409,
          1.1182,
          1.2461,
          1.0441,
          0.8554,
          1.3191,
          0.983,
          1.0196,
          0.9038,
          0.6478,
          0.6216,
          0.8461,
          0.7884,
          1.7083,
          0.6666,
          1.3571,
          2.6428,
          0.7058,
          1.0937,
          1.4761,
          1.5263,
          0.8,
          0.6585,
          0.5294,
          2.1818,
          1.0476,
          0.875,
          2,
          1.1875,
          1.0588,
          0.6923,
          0.6206,
          0.6,
          0.625,
          0.9375,
          1.1666,
          0.5,
          0.4814,
          1.4444,
          1.3333,
          0.1764,
          0.6875,
          1.8333,
          1.1,
          0.7692,
          0.7692,
          0.6,
          0.4,
          0.6666,
          0.7272,
          0.4666,
          0.7777,
          0.75,
          0.3,
          0.8571,
          1.25,
          1.25,
          0.1764,
          0.5,
          0.4285,
          1,
          0.6666,
          1,
          1,
          1,
          1,
          0.3333,
          1.340909091,
          0.984375,
          0.868852459,
          0.909090909,
          0.533333333,
          1.016666667,
          1.5,
          0.5,
          0.916666667,
          2,
          1.166666667,
          0,
          0,
          0,
          0,
          0,
          0,
          0,
          0,
          0,
          1.2916,
          0.4838,
          1.6111,
          0.5714,
          0.5806,
          0.421,
          0.4827,
          0.2,
          0,
          0.566666667,
          0.879310345,
          0.25,
          0.7,
          0.583333333,
          1.30952381
         ],
         "y0": " ",
         "yaxis": "y"
        },
        {
         "alignmentgroup": "True",
         "hovertemplate": "team=IND<br>Opposition=%{x}<br>Runs per Ball=%{y}<extra></extra>",
         "legendgroup": "IND",
         "marker": {
          "color": "#FECB52"
         },
         "name": "IND",
         "notched": false,
         "offsetgroup": "IND",
         "orientation": "v",
         "showlegend": true,
         "type": "box",
         "x": [
          "v South Africa",
          "v South Africa",
          "v Pakistan",
          "v England",
          "v Pakistan",
          "v Australia",
          "v Pakistan",
          "v Sri Lanka",
          "v South Africa",
          "v New Zealand",
          "v England",
          "v Afghanistan",
          "v Sri Lanka",
          "v Australia",
          "v England",
          "v Pakistan",
          "v Bangladesh",
          "v Bangladesh",
          "v Australia",
          "v Afghanistan",
          "v Pakistan",
          "v Bangladesh",
          "v New Zealand",
          "v Sri Lanka",
          "v Sri Lanka",
          "v South Africa",
          "v England",
          "v Australia",
          "v Australia",
          "v Afghanistan",
          "v Australia",
          "v Afghanistan",
          "v New Zealand",
          "v New Zealand",
          "v Bangladesh",
          "v Bangladesh",
          "v Bangladesh",
          "v Sri Lanka",
          "v Bangladesh",
          "v Pakistan",
          "v South Africa",
          "v England",
          "v Afghanistan",
          "v New Zealand",
          "v Afghanistan",
          "v Afghanistan",
          "v Bangladesh",
          "v South Africa",
          "v Australia",
          "v New Zealand",
          "v Sri Lanka",
          "v Sri Lanka",
          "v England",
          "v Pakistan",
          "v Australia",
          "v Sri Lanka",
          "v South Africa",
          "v Afghanistan",
          "v Pakistan",
          "v Bangladesh",
          "v England",
          "v Bangladesh",
          "v Afghanistan",
          "v New Zealand",
          "v South Africa",
          "v New Zealand",
          "v England",
          "v Sri Lanka",
          "v Bangladesh",
          "v New Zealand",
          "v South Africa",
          "v New Zealand",
          "v New Zealand",
          "v Afghanistan",
          "v South Africa",
          "v South Africa",
          "v Sri Lanka",
          "v Pakistan",
          "v Bangladesh",
          "v Pakistan",
          "v Pakistan",
          "v England",
          "v Sri Lanka",
          "v Australia",
          "v England",
          "v England",
          "v England",
          "v South Africa",
          "v England",
          "v Sri Lanka",
          "v New Zealand",
          "v Sri Lanka",
          "v New Zealand",
          "v Sri Lanka",
          "v England",
          "v Australia",
          "v Australia",
          "v Australia",
          "v England",
          "v Netherlands",
          "v Netherlands",
          "v Netherlands",
          "v Netherlands",
          "v Netherlands",
          "v Netherlands",
          "v Netherlands",
          "v Netherlands",
          "v Netherlands",
          "v Netherlands",
          "v Netherlands",
          "v Netherlands",
          "v Netherlands",
          "v Netherlands",
          "v New Zealand",
          "v New Zealand",
          "v New Zealand",
          "v New Zealand",
          "v New Zealand",
          "v New Zealand",
          "v New Zealand",
          "v New Zealand",
          "v New Zealand",
          "v New Zealand",
          "v New Zealand"
         ],
         "x0": " ",
         "xaxis": "x",
         "y": [
          0.225806452,
          0.75,
          0.452380952,
          0.5,
          0.944444444,
          0.583333333,
          0.583333333,
          0.6,
          0.611111111,
          0.9,
          0.523809524,
          0.65,
          0.380952381,
          0.466666667,
          0.780487805,
          0.644067797,
          0.633333333,
          0.683333333,
          0.7,
          1.023809524,
          1.041666667,
          1,
          1.216666667,
          1,
          0.266666667,
          0.458333333,
          0.380952381,
          0.666666667,
          1.555555556,
          0.861111111,
          0.566666667,
          0.666666667,
          0.75,
          0.75,
          0.783333333,
          1.092592593,
          0.666666667,
          0.25,
          2.666666667,
          1,
          0.466666667,
          0.916666667,
          0.791666667,
          0.8,
          1.407407407,
          1.5595,
          1.0618,
          0.8347,
          0.8434,
          0.9134,
          1,
          0.9361,
          0.8613,
          1.365,
          0.7327,
          1.4642,
          0.885,
          0.9821,
          0.8548,
          0.9636,
          1.0425,
          1.2,
          1,
          1.15,
          1.6666,
          0.8863,
          0.6724,
          1.4583,
          1,
          1.1379,
          1.9333,
          0.7714,
          0.8387,
          1.0869,
          0.9583,
          1.5714,
          1.1052,
          0.6551,
          0.76,
          1.4545,
          0.8888,
          0.64,
          1.3333,
          1.375,
          0.6923,
          0.6923,
          0.6153,
          0.4705,
          0.25,
          2,
          0.5,
          0.5,
          1,
          1,
          0.2,
          0,
          0,
          0,
          0,
          1.361702128,
          1.59375,
          1.12962963,
          1.59375,
          0.910714286,
          2,
          0.805555556,
          0.611111111,
          0.683333333,
          0.907407407,
          1.4,
          0.916666667,
          1.416666667,
          1.138888889,
          1.0353,
          1.5,
          1.2121,
          1.6206,
          1.95,
          0.5,
          0.966101695,
          0.933333333,
          1.066666667,
          1.444444444,
          1.05
         ],
         "y0": " ",
         "yaxis": "y"
        }
       ],
       "layout": {
        "boxmode": "group",
        "legend": {
         "title": {
          "text": "team"
         },
         "tracegroupgap": 0
        },
        "template": {
         "data": {
          "bar": [
           {
            "error_x": {
             "color": "#2a3f5f"
            },
            "error_y": {
             "color": "#2a3f5f"
            },
            "marker": {
             "line": {
              "color": "#E5ECF6",
              "width": 0.5
             },
             "pattern": {
              "fillmode": "overlay",
              "size": 10,
              "solidity": 0.2
             }
            },
            "type": "bar"
           }
          ],
          "barpolar": [
           {
            "marker": {
             "line": {
              "color": "#E5ECF6",
              "width": 0.5
             },
             "pattern": {
              "fillmode": "overlay",
              "size": 10,
              "solidity": 0.2
             }
            },
            "type": "barpolar"
           }
          ],
          "carpet": [
           {
            "aaxis": {
             "endlinecolor": "#2a3f5f",
             "gridcolor": "white",
             "linecolor": "white",
             "minorgridcolor": "white",
             "startlinecolor": "#2a3f5f"
            },
            "baxis": {
             "endlinecolor": "#2a3f5f",
             "gridcolor": "white",
             "linecolor": "white",
             "minorgridcolor": "white",
             "startlinecolor": "#2a3f5f"
            },
            "type": "carpet"
           }
          ],
          "choropleth": [
           {
            "colorbar": {
             "outlinewidth": 0,
             "ticks": ""
            },
            "type": "choropleth"
           }
          ],
          "contour": [
           {
            "colorbar": {
             "outlinewidth": 0,
             "ticks": ""
            },
            "colorscale": [
             [
              0,
              "#0d0887"
             ],
             [
              0.1111111111111111,
              "#46039f"
             ],
             [
              0.2222222222222222,
              "#7201a8"
             ],
             [
              0.3333333333333333,
              "#9c179e"
             ],
             [
              0.4444444444444444,
              "#bd3786"
             ],
             [
              0.5555555555555556,
              "#d8576b"
             ],
             [
              0.6666666666666666,
              "#ed7953"
             ],
             [
              0.7777777777777778,
              "#fb9f3a"
             ],
             [
              0.8888888888888888,
              "#fdca26"
             ],
             [
              1,
              "#f0f921"
             ]
            ],
            "type": "contour"
           }
          ],
          "contourcarpet": [
           {
            "colorbar": {
             "outlinewidth": 0,
             "ticks": ""
            },
            "type": "contourcarpet"
           }
          ],
          "heatmap": [
           {
            "colorbar": {
             "outlinewidth": 0,
             "ticks": ""
            },
            "colorscale": [
             [
              0,
              "#0d0887"
             ],
             [
              0.1111111111111111,
              "#46039f"
             ],
             [
              0.2222222222222222,
              "#7201a8"
             ],
             [
              0.3333333333333333,
              "#9c179e"
             ],
             [
              0.4444444444444444,
              "#bd3786"
             ],
             [
              0.5555555555555556,
              "#d8576b"
             ],
             [
              0.6666666666666666,
              "#ed7953"
             ],
             [
              0.7777777777777778,
              "#fb9f3a"
             ],
             [
              0.8888888888888888,
              "#fdca26"
             ],
             [
              1,
              "#f0f921"
             ]
            ],
            "type": "heatmap"
           }
          ],
          "heatmapgl": [
           {
            "colorbar": {
             "outlinewidth": 0,
             "ticks": ""
            },
            "colorscale": [
             [
              0,
              "#0d0887"
             ],
             [
              0.1111111111111111,
              "#46039f"
             ],
             [
              0.2222222222222222,
              "#7201a8"
             ],
             [
              0.3333333333333333,
              "#9c179e"
             ],
             [
              0.4444444444444444,
              "#bd3786"
             ],
             [
              0.5555555555555556,
              "#d8576b"
             ],
             [
              0.6666666666666666,
              "#ed7953"
             ],
             [
              0.7777777777777778,
              "#fb9f3a"
             ],
             [
              0.8888888888888888,
              "#fdca26"
             ],
             [
              1,
              "#f0f921"
             ]
            ],
            "type": "heatmapgl"
           }
          ],
          "histogram": [
           {
            "marker": {
             "pattern": {
              "fillmode": "overlay",
              "size": 10,
              "solidity": 0.2
             }
            },
            "type": "histogram"
           }
          ],
          "histogram2d": [
           {
            "colorbar": {
             "outlinewidth": 0,
             "ticks": ""
            },
            "colorscale": [
             [
              0,
              "#0d0887"
             ],
             [
              0.1111111111111111,
              "#46039f"
             ],
             [
              0.2222222222222222,
              "#7201a8"
             ],
             [
              0.3333333333333333,
              "#9c179e"
             ],
             [
              0.4444444444444444,
              "#bd3786"
             ],
             [
              0.5555555555555556,
              "#d8576b"
             ],
             [
              0.6666666666666666,
              "#ed7953"
             ],
             [
              0.7777777777777778,
              "#fb9f3a"
             ],
             [
              0.8888888888888888,
              "#fdca26"
             ],
             [
              1,
              "#f0f921"
             ]
            ],
            "type": "histogram2d"
           }
          ],
          "histogram2dcontour": [
           {
            "colorbar": {
             "outlinewidth": 0,
             "ticks": ""
            },
            "colorscale": [
             [
              0,
              "#0d0887"
             ],
             [
              0.1111111111111111,
              "#46039f"
             ],
             [
              0.2222222222222222,
              "#7201a8"
             ],
             [
              0.3333333333333333,
              "#9c179e"
             ],
             [
              0.4444444444444444,
              "#bd3786"
             ],
             [
              0.5555555555555556,
              "#d8576b"
             ],
             [
              0.6666666666666666,
              "#ed7953"
             ],
             [
              0.7777777777777778,
              "#fb9f3a"
             ],
             [
              0.8888888888888888,
              "#fdca26"
             ],
             [
              1,
              "#f0f921"
             ]
            ],
            "type": "histogram2dcontour"
           }
          ],
          "mesh3d": [
           {
            "colorbar": {
             "outlinewidth": 0,
             "ticks": ""
            },
            "type": "mesh3d"
           }
          ],
          "parcoords": [
           {
            "line": {
             "colorbar": {
              "outlinewidth": 0,
              "ticks": ""
             }
            },
            "type": "parcoords"
           }
          ],
          "pie": [
           {
            "automargin": true,
            "type": "pie"
           }
          ],
          "scatter": [
           {
            "fillpattern": {
             "fillmode": "overlay",
             "size": 10,
             "solidity": 0.2
            },
            "type": "scatter"
           }
          ],
          "scatter3d": [
           {
            "line": {
             "colorbar": {
              "outlinewidth": 0,
              "ticks": ""
             }
            },
            "marker": {
             "colorbar": {
              "outlinewidth": 0,
              "ticks": ""
             }
            },
            "type": "scatter3d"
           }
          ],
          "scattercarpet": [
           {
            "marker": {
             "colorbar": {
              "outlinewidth": 0,
              "ticks": ""
             }
            },
            "type": "scattercarpet"
           }
          ],
          "scattergeo": [
           {
            "marker": {
             "colorbar": {
              "outlinewidth": 0,
              "ticks": ""
             }
            },
            "type": "scattergeo"
           }
          ],
          "scattergl": [
           {
            "marker": {
             "colorbar": {
              "outlinewidth": 0,
              "ticks": ""
             }
            },
            "type": "scattergl"
           }
          ],
          "scattermapbox": [
           {
            "marker": {
             "colorbar": {
              "outlinewidth": 0,
              "ticks": ""
             }
            },
            "type": "scattermapbox"
           }
          ],
          "scatterpolar": [
           {
            "marker": {
             "colorbar": {
              "outlinewidth": 0,
              "ticks": ""
             }
            },
            "type": "scatterpolar"
           }
          ],
          "scatterpolargl": [
           {
            "marker": {
             "colorbar": {
              "outlinewidth": 0,
              "ticks": ""
             }
            },
            "type": "scatterpolargl"
           }
          ],
          "scatterternary": [
           {
            "marker": {
             "colorbar": {
              "outlinewidth": 0,
              "ticks": ""
             }
            },
            "type": "scatterternary"
           }
          ],
          "surface": [
           {
            "colorbar": {
             "outlinewidth": 0,
             "ticks": ""
            },
            "colorscale": [
             [
              0,
              "#0d0887"
             ],
             [
              0.1111111111111111,
              "#46039f"
             ],
             [
              0.2222222222222222,
              "#7201a8"
             ],
             [
              0.3333333333333333,
              "#9c179e"
             ],
             [
              0.4444444444444444,
              "#bd3786"
             ],
             [
              0.5555555555555556,
              "#d8576b"
             ],
             [
              0.6666666666666666,
              "#ed7953"
             ],
             [
              0.7777777777777778,
              "#fb9f3a"
             ],
             [
              0.8888888888888888,
              "#fdca26"
             ],
             [
              1,
              "#f0f921"
             ]
            ],
            "type": "surface"
           }
          ],
          "table": [
           {
            "cells": {
             "fill": {
              "color": "#EBF0F8"
             },
             "line": {
              "color": "white"
             }
            },
            "header": {
             "fill": {
              "color": "#C8D4E3"
             },
             "line": {
              "color": "white"
             }
            },
            "type": "table"
           }
          ]
         },
         "layout": {
          "annotationdefaults": {
           "arrowcolor": "#2a3f5f",
           "arrowhead": 0,
           "arrowwidth": 1
          },
          "autotypenumbers": "strict",
          "coloraxis": {
           "colorbar": {
            "outlinewidth": 0,
            "ticks": ""
           }
          },
          "colorscale": {
           "diverging": [
            [
             0,
             "#8e0152"
            ],
            [
             0.1,
             "#c51b7d"
            ],
            [
             0.2,
             "#de77ae"
            ],
            [
             0.3,
             "#f1b6da"
            ],
            [
             0.4,
             "#fde0ef"
            ],
            [
             0.5,
             "#f7f7f7"
            ],
            [
             0.6,
             "#e6f5d0"
            ],
            [
             0.7,
             "#b8e186"
            ],
            [
             0.8,
             "#7fbc41"
            ],
            [
             0.9,
             "#4d9221"
            ],
            [
             1,
             "#276419"
            ]
           ],
           "sequential": [
            [
             0,
             "#0d0887"
            ],
            [
             0.1111111111111111,
             "#46039f"
            ],
            [
             0.2222222222222222,
             "#7201a8"
            ],
            [
             0.3333333333333333,
             "#9c179e"
            ],
            [
             0.4444444444444444,
             "#bd3786"
            ],
            [
             0.5555555555555556,
             "#d8576b"
            ],
            [
             0.6666666666666666,
             "#ed7953"
            ],
            [
             0.7777777777777778,
             "#fb9f3a"
            ],
            [
             0.8888888888888888,
             "#fdca26"
            ],
            [
             1,
             "#f0f921"
            ]
           ],
           "sequentialminus": [
            [
             0,
             "#0d0887"
            ],
            [
             0.1111111111111111,
             "#46039f"
            ],
            [
             0.2222222222222222,
             "#7201a8"
            ],
            [
             0.3333333333333333,
             "#9c179e"
            ],
            [
             0.4444444444444444,
             "#bd3786"
            ],
            [
             0.5555555555555556,
             "#d8576b"
            ],
            [
             0.6666666666666666,
             "#ed7953"
            ],
            [
             0.7777777777777778,
             "#fb9f3a"
            ],
            [
             0.8888888888888888,
             "#fdca26"
            ],
            [
             1,
             "#f0f921"
            ]
           ]
          },
          "colorway": [
           "#636efa",
           "#EF553B",
           "#00cc96",
           "#ab63fa",
           "#FFA15A",
           "#19d3f3",
           "#FF6692",
           "#B6E880",
           "#FF97FF",
           "#FECB52"
          ],
          "font": {
           "color": "#2a3f5f"
          },
          "geo": {
           "bgcolor": "white",
           "lakecolor": "white",
           "landcolor": "#E5ECF6",
           "showlakes": true,
           "showland": true,
           "subunitcolor": "white"
          },
          "hoverlabel": {
           "align": "left"
          },
          "hovermode": "closest",
          "mapbox": {
           "style": "light"
          },
          "paper_bgcolor": "white",
          "plot_bgcolor": "#E5ECF6",
          "polar": {
           "angularaxis": {
            "gridcolor": "white",
            "linecolor": "white",
            "ticks": ""
           },
           "bgcolor": "#E5ECF6",
           "radialaxis": {
            "gridcolor": "white",
            "linecolor": "white",
            "ticks": ""
           }
          },
          "scene": {
           "xaxis": {
            "backgroundcolor": "#E5ECF6",
            "gridcolor": "white",
            "gridwidth": 2,
            "linecolor": "white",
            "showbackground": true,
            "ticks": "",
            "zerolinecolor": "white"
           },
           "yaxis": {
            "backgroundcolor": "#E5ECF6",
            "gridcolor": "white",
            "gridwidth": 2,
            "linecolor": "white",
            "showbackground": true,
            "ticks": "",
            "zerolinecolor": "white"
           },
           "zaxis": {
            "backgroundcolor": "#E5ECF6",
            "gridcolor": "white",
            "gridwidth": 2,
            "linecolor": "white",
            "showbackground": true,
            "ticks": "",
            "zerolinecolor": "white"
           }
          },
          "shapedefaults": {
           "line": {
            "color": "#2a3f5f"
           }
          },
          "ternary": {
           "aaxis": {
            "gridcolor": "white",
            "linecolor": "white",
            "ticks": ""
           },
           "baxis": {
            "gridcolor": "white",
            "linecolor": "white",
            "ticks": ""
           },
           "bgcolor": "#E5ECF6",
           "caxis": {
            "gridcolor": "white",
            "linecolor": "white",
            "ticks": ""
           }
          },
          "title": {
           "x": 0.05
          },
          "xaxis": {
           "automargin": true,
           "gridcolor": "white",
           "linecolor": "white",
           "ticks": "",
           "title": {
            "standoff": 15
           },
           "zerolinecolor": "white",
           "zerolinewidth": 2
          },
          "yaxis": {
           "automargin": true,
           "gridcolor": "white",
           "linecolor": "white",
           "ticks": "",
           "title": {
            "standoff": 15
           },
           "zerolinecolor": "white",
           "zerolinewidth": 2
          }
         }
        },
        "title": {
         "text": "Performance Against Different Oppositions"
        },
        "xaxis": {
         "anchor": "y",
         "domain": [
          0,
          1
         ],
         "title": {
          "text": "Opposition"
         }
        },
        "yaxis": {
         "anchor": "x",
         "domain": [
          0,
          1
         ],
         "title": {
          "text": "Runs per Ball"
         }
        }
       }
      }
     },
     "metadata": {},
     "output_type": "display_data"
    }
   ],
   "source": [
    "fig_opposition = px.box(df, x='opposition', y='runs_per_ball', color='team',\n",
    "                         title='Performance Against Different Oppositions',\n",
    "                         labels={'runs_per_ball': 'Runs per Ball', 'opposition': 'Opposition'})\n",
    "fig_opposition.update_xaxes(title_text='Opposition')\n",
    "fig_opposition.update_yaxes(title_text='Runs per Ball')\n",
    "fig_opposition.show()"
   ]
  }
 ],
 "metadata": {
  "kernelspec": {
   "display_name": "Python 3",
   "language": "python",
   "name": "python3"
  },
  "language_info": {
   "codemirror_mode": {
    "name": "ipython",
    "version": 3
   },
   "file_extension": ".py",
   "mimetype": "text/x-python",
   "name": "python",
   "nbconvert_exporter": "python",
   "pygments_lexer": "ipython3",
   "version": "3.10.8"
  }
 },
 "nbformat": 4,
 "nbformat_minor": 2
}
